{
 "cells": [
  {
   "cell_type": "markdown",
   "id": "Xba-oy4zCeri",
   "metadata": {
    "id": "Xba-oy4zCeri"
   },
   "source": [
    "$$ Credit \\space Score $$\n",
    "$$ Deep \\space Learning $$\n",
    "$$ ANN \\space Model $$"
   ]
  },
  {
   "cell_type": "markdown",
   "id": "b177f870",
   "metadata": {
    "id": "b177f870"
   },
   "source": [
    "# Introduction\n",
    "\n",
    "> Use the `keras` from Tensorflow to build ANN model that would fit the credit score data and be able to generalize well.\n",
    "\n",
    "Use the Credit Score Classification dataset provided [here](https://www.kaggle.com/datasets/parisrohan/credit-score-classification) to train and test your design.\n",
    "\n",
    "**Notes:**\n",
    "- Split the data as you see fit and use validation during training.\n",
    "- You may re-use the EDA, data preparation, and other sections you previously used in ML1 assignemnts.\n",
    "- Remember that you can use classification metrics from other libraries as well (e.g., `sklearn`)\n",
    "- Plot the loss, and accuracy against epochs and extract insights on how well of a fit your model is.\n",
    "- This time the notebook is not prepared with sections and instructions so that you can do it yourself.\n",
    "- If you are stuck, you can consult the [Keras User Guide](https://keras.io/api/). There are some useful [Code Examples](https://keras.io/examples/) as well.\n"
   ]
  },
  {
   "cell_type": "markdown",
   "id": "p3aFYBQmh0ez",
   "metadata": {
    "id": "p3aFYBQmh0ez"
   },
   "source": [
    "# `01` Import Necessary Libraries"
   ]
  },
  {
   "cell_type": "code",
   "execution_count": 108,
   "id": "79ulMqI53XnF",
   "metadata": {
    "id": "79ulMqI53XnF"
   },
   "outputs": [],
   "source": [
    "import pandas as pd\n",
    "import numpy as np\n",
    "\n",
    "import matplotlib.pyplot as plt\n",
    "import matplotlib.image as mpimg\n",
    "import seaborn as sns\n",
    "\n",
    "from sklearn.metrics import accuracy_score, classification_report, confusion_matrix, precision_score, recall_score, f1_score\n",
    "from sklearn.preprocessing import LabelEncoder\n",
    "\n",
    "from tensorflow import keras\n",
    "from keras.models import Sequential\n",
    "from keras.layers import Dense\n",
    "from keras import Input\n",
    "from keras.utils import set_random_seed\n",
    "from keras.callbacks import EarlyStopping\n",
    "\n",
    "pd.set_option('display.max_columns', None)\n",
    "\n",
    "import warnings\n",
    "warnings.simplefilter(\"ignore\")\n",
    "\n",
    "set_random_seed(1234)"
   ]
  },
  {
   "cell_type": "markdown",
   "id": "bLjftYPXh2JJ",
   "metadata": {
    "id": "bLjftYPXh2JJ"
   },
   "source": [
    "----------------------------\n",
    "\n",
    "# `02` Load & Split Data\n",
    "\n",
    "Note: This is the `Cleaned Data` from ML1 assignments."
   ]
  },
  {
   "cell_type": "code",
   "execution_count": 78,
   "id": "q074VFzGiGGJ",
   "metadata": {
    "colab": {
     "base_uri": "https://localhost:8080/",
     "height": 206
    },
    "id": "q074VFzGiGGJ",
    "outputId": "21714f26-be21-4359-c950-7c272de678f1"
   },
   "outputs": [
    {
     "data": {
      "text/html": [
       "<style type=\"text/css\">\n",
       "#T_389be_row0_col0, #T_389be_row0_col2, #T_389be_row0_col5, #T_389be_row2_col1, #T_389be_row2_col2, #T_389be_row3_col2, #T_389be_row3_col3, #T_389be_row3_col4, #T_389be_row3_col6, #T_389be_row4_col2, #T_389be_row4_col3 {\n",
       "  background-color: #08306b;\n",
       "  color: #f1f1f1;\n",
       "}\n",
       "#T_389be_row0_col1 {\n",
       "  background-color: #4191c6;\n",
       "  color: #f1f1f1;\n",
       "}\n",
       "#T_389be_row0_col3, #T_389be_row1_col0, #T_389be_row1_col1, #T_389be_row1_col2, #T_389be_row1_col3, #T_389be_row1_col5, #T_389be_row1_col6, #T_389be_row2_col3, #T_389be_row2_col4 {\n",
       "  background-color: #f7fbff;\n",
       "  color: #000000;\n",
       "}\n",
       "#T_389be_row0_col4 {\n",
       "  background-color: #abd0e6;\n",
       "  color: #000000;\n",
       "}\n",
       "#T_389be_row0_col6 {\n",
       "  background-color: #1c6bb0;\n",
       "  color: #f1f1f1;\n",
       "}\n",
       "#T_389be_row1_col4 {\n",
       "  background-color: #82bbdb;\n",
       "  color: #000000;\n",
       "}\n",
       "#T_389be_row2_col0 {\n",
       "  background-color: #c1d9ed;\n",
       "  color: #000000;\n",
       "}\n",
       "#T_389be_row2_col5 {\n",
       "  background-color: #cde0f1;\n",
       "  color: #000000;\n",
       "}\n",
       "#T_389be_row2_col6 {\n",
       "  background-color: #65aad4;\n",
       "  color: #f1f1f1;\n",
       "}\n",
       "#T_389be_row3_col0 {\n",
       "  background-color: #5fa6d1;\n",
       "  color: #f1f1f1;\n",
       "}\n",
       "#T_389be_row3_col1 {\n",
       "  background-color: #7ab6d9;\n",
       "  color: #000000;\n",
       "}\n",
       "#T_389be_row3_col5 {\n",
       "  background-color: #a4cce3;\n",
       "  color: #000000;\n",
       "}\n",
       "#T_389be_row4_col0 {\n",
       "  background-color: #0e58a2;\n",
       "  color: #f1f1f1;\n",
       "}\n",
       "#T_389be_row4_col1 {\n",
       "  background-color: #77b5d9;\n",
       "  color: #000000;\n",
       "}\n",
       "#T_389be_row4_col4 {\n",
       "  background-color: #1b69af;\n",
       "  color: #f1f1f1;\n",
       "}\n",
       "#T_389be_row4_col5 {\n",
       "  background-color: #2b7bba;\n",
       "  color: #f1f1f1;\n",
       "}\n",
       "#T_389be_row4_col6 {\n",
       "  background-color: #2f7fbc;\n",
       "  color: #f1f1f1;\n",
       "}\n",
       "</style>\n",
       "<table id=\"T_389be\" class=\"dataframe\">\n",
       "  <thead>\n",
       "    <tr>\n",
       "      <th class=\"blank level0\" >&nbsp;</th>\n",
       "      <th id=\"T_389be_level0_col0\" class=\"col_heading level0 col0\" >Delay_from_due_date</th>\n",
       "      <th id=\"T_389be_level0_col1\" class=\"col_heading level0 col1\" >Outstanding_Debt</th>\n",
       "      <th id=\"T_389be_level0_col2\" class=\"col_heading level0 col2\" >Credit_Mix</th>\n",
       "      <th id=\"T_389be_level0_col3\" class=\"col_heading level0 col3\" >Payment_of_Min_Amount</th>\n",
       "      <th id=\"T_389be_level0_col4\" class=\"col_heading level0 col4\" >Num_Credit_Inquiries</th>\n",
       "      <th id=\"T_389be_level0_col5\" class=\"col_heading level0 col5\" >Interest_Rate</th>\n",
       "      <th id=\"T_389be_level0_col6\" class=\"col_heading level0 col6\" >Changed_Credit_Limit</th>\n",
       "    </tr>\n",
       "  </thead>\n",
       "  <tbody>\n",
       "    <tr>\n",
       "      <th id=\"T_389be_level0_row0\" class=\"row_heading level0 row0\" >0</th>\n",
       "      <td id=\"T_389be_row0_col0\" class=\"data row0 col0\" >0.441222</td>\n",
       "      <td id=\"T_389be_row0_col1\" class=\"data row0 col1\" >-0.352183</td>\n",
       "      <td id=\"T_389be_row0_col2\" class=\"data row0 col2\" >2</td>\n",
       "      <td id=\"T_389be_row0_col3\" class=\"data row0 col3\" >0</td>\n",
       "      <td id=\"T_389be_row0_col4\" class=\"data row0 col4\" >-0.730168</td>\n",
       "      <td id=\"T_389be_row0_col5\" class=\"data row0 col5\" >0.621055</td>\n",
       "      <td id=\"T_389be_row0_col6\" class=\"data row0 col6\" >0.220544</td>\n",
       "    </tr>\n",
       "    <tr>\n",
       "      <th id=\"T_389be_level0_row1\" class=\"row_heading level0 row1\" >1</th>\n",
       "      <td id=\"T_389be_row1_col0\" class=\"data row1 col0\" >-1.538789</td>\n",
       "      <td id=\"T_389be_row1_col1\" class=\"data row1 col1\" >-1.065845</td>\n",
       "      <td id=\"T_389be_row1_col2\" class=\"data row1 col2\" >1</td>\n",
       "      <td id=\"T_389be_row1_col3\" class=\"data row1 col3\" >0</td>\n",
       "      <td id=\"T_389be_row1_col4\" class=\"data row1 col4\" >-0.470839</td>\n",
       "      <td id=\"T_389be_row1_col5\" class=\"data row1 col5\" >-0.982221</td>\n",
       "      <td id=\"T_389be_row1_col6\" class=\"data row1 col6\" >-0.798401</td>\n",
       "    </tr>\n",
       "    <tr>\n",
       "      <th id=\"T_389be_level0_row2\" class=\"row_heading level0 row2\" >2</th>\n",
       "      <td id=\"T_389be_row2_col0\" class=\"data row2 col0\" >-1.005709</td>\n",
       "      <td id=\"T_389be_row2_col1\" class=\"data row2 col1\" >0.073799</td>\n",
       "      <td id=\"T_389be_row2_col2\" class=\"data row2 col2\" >2</td>\n",
       "      <td id=\"T_389be_row2_col3\" class=\"data row2 col3\" >0</td>\n",
       "      <td id=\"T_389be_row2_col4\" class=\"data row2 col4\" >-1.508155</td>\n",
       "      <td id=\"T_389be_row2_col5\" class=\"data row2 col5\" >-0.638662</td>\n",
       "      <td id=\"T_389be_row2_col6\" class=\"data row2 col6\" >-0.116002</td>\n",
       "    </tr>\n",
       "    <tr>\n",
       "      <th id=\"T_389be_level0_row3\" class=\"row_heading level0 row3\" >3</th>\n",
       "      <td id=\"T_389be_row3_col0\" class=\"data row3 col0\" >-0.472629</td>\n",
       "      <td id=\"T_389be_row3_col1\" class=\"data row3 col1\" >-0.538956</td>\n",
       "      <td id=\"T_389be_row3_col2\" class=\"data row3 col2\" >2</td>\n",
       "      <td id=\"T_389be_row3_col3\" class=\"data row3 col3\" >1</td>\n",
       "      <td id=\"T_389be_row3_col4\" class=\"data row3 col4\" >0.825805</td>\n",
       "      <td id=\"T_389be_row3_col5\" class=\"data row3 col5\" >-0.409622</td>\n",
       "      <td id=\"T_389be_row3_col6\" class=\"data row3 col6\" >0.521420</td>\n",
       "    </tr>\n",
       "    <tr>\n",
       "      <th id=\"T_389be_level0_row4\" class=\"row_heading level0 row4\" >4</th>\n",
       "      <td id=\"T_389be_row4_col0\" class=\"data row4 col0\" >0.136605</td>\n",
       "      <td id=\"T_389be_row4_col1\" class=\"data row4 col1\" >-0.530580</td>\n",
       "      <td id=\"T_389be_row4_col2\" class=\"data row4 col2\" >2</td>\n",
       "      <td id=\"T_389be_row4_col3\" class=\"data row4 col3\" >1</td>\n",
       "      <td id=\"T_389be_row4_col4\" class=\"data row4 col4\" >0.307147</td>\n",
       "      <td id=\"T_389be_row4_col5\" class=\"data row4 col5\" >0.162976</td>\n",
       "      <td id=\"T_389be_row4_col6\" class=\"data row4 col6\" >0.121286</td>\n",
       "    </tr>\n",
       "  </tbody>\n",
       "</table>\n"
      ],
      "text/plain": [
       "<pandas.io.formats.style.Styler at 0x783918706410>"
      ]
     },
     "execution_count": 78,
     "metadata": {},
     "output_type": "execute_result"
    }
   ],
   "source": [
    "X_train = pd.read_csv('/content/X_train_cleaned.csv')\n",
    "X_val = pd.read_csv('/content/X_val_cleaned.csv')\n",
    "X_test = pd.read_csv('/content/X_test_cleaned.csv')\n",
    "\n",
    "y_train = pd.read_csv('/content/y_train_cleaned.csv')\n",
    "y_val = pd.read_csv('/content/y_val_cleaned.csv')\n",
    "y_test = pd.read_csv('/content/y_test_cleaned.csv')\n",
    "\n",
    "X_train.head().style.background_gradient(cmap='Blues')"
   ]
  },
  {
   "cell_type": "code",
   "execution_count": 79,
   "id": "BZ2AEkfWboKo",
   "metadata": {
    "colab": {
     "base_uri": "https://localhost:8080/"
    },
    "id": "BZ2AEkfWboKo",
    "outputId": "0e2ea316-b27c-4bfb-e16f-27cc156c47c8"
   },
   "outputs": [
    {
     "data": {
      "text/plain": [
       "(32358, 7)"
      ]
     },
     "execution_count": 79,
     "metadata": {},
     "output_type": "execute_result"
    }
   ],
   "source": [
    "X_train.shape"
   ]
  },
  {
   "cell_type": "code",
   "execution_count": 91,
   "id": "H0RRZ85wu4go",
   "metadata": {
    "colab": {
     "base_uri": "https://localhost:8080/",
     "height": 209
    },
    "id": "H0RRZ85wu4go",
    "outputId": "0b3e7fda-71f1-4b48-ddfd-4b2d28c4a451"
   },
   "outputs": [
    {
     "data": {
      "text/html": [
       "<div>\n",
       "<style scoped>\n",
       "    .dataframe tbody tr th:only-of-type {\n",
       "        vertical-align: middle;\n",
       "    }\n",
       "\n",
       "    .dataframe tbody tr th {\n",
       "        vertical-align: top;\n",
       "    }\n",
       "\n",
       "    .dataframe thead th {\n",
       "        text-align: right;\n",
       "    }\n",
       "</style>\n",
       "<table border=\"1\" class=\"dataframe\">\n",
       "  <thead>\n",
       "    <tr style=\"text-align: right;\">\n",
       "      <th></th>\n",
       "      <th>count</th>\n",
       "    </tr>\n",
       "    <tr>\n",
       "      <th>0</th>\n",
       "      <th></th>\n",
       "    </tr>\n",
       "  </thead>\n",
       "  <tbody>\n",
       "    <tr>\n",
       "      <th>3</th>\n",
       "      <td>17075</td>\n",
       "    </tr>\n",
       "    <tr>\n",
       "      <th>1</th>\n",
       "      <td>9514</td>\n",
       "    </tr>\n",
       "    <tr>\n",
       "      <th>0</th>\n",
       "      <td>5768</td>\n",
       "    </tr>\n",
       "  </tbody>\n",
       "</table>\n",
       "</div><br><label><b>dtype:</b> int64</label>"
      ],
      "text/plain": [
       "0\n",
       "3    17075\n",
       "1     9514\n",
       "0     5768\n",
       "Name: count, dtype: int64"
      ]
     },
     "execution_count": 91,
     "metadata": {},
     "output_type": "execute_result"
    }
   ],
   "source": [
    "y_train.value_counts()"
   ]
  },
  {
   "cell_type": "code",
   "execution_count": 85,
   "id": "z72eWSzwzN36",
   "metadata": {
    "id": "z72eWSzwzN36"
   },
   "outputs": [],
   "source": [
    "# remove nan value\n",
    "mask = y_train.values.flatten() != 2\n",
    "X_train = X_train[mask]\n",
    "y_train = y_train[mask]"
   ]
  },
  {
   "cell_type": "code",
   "execution_count": 100,
   "id": "12ZVfgwd1DcW",
   "metadata": {
    "id": "12ZVfgwd1DcW"
   },
   "outputs": [],
   "source": [
    "# encode due to make it within 0,1,2\n",
    "label_encoder = LabelEncoder()\n",
    "y_train = label_encoder.fit_transform(y_train)\n",
    "y_test = label_encoder.transform(y_test)\n",
    "y_val = label_encoder.transform(y_val)"
   ]
  },
  {
   "cell_type": "markdown",
   "id": "sOuDW6aiiLEg",
   "metadata": {
    "id": "sOuDW6aiiLEg"
   },
   "source": [
    "---\n",
    "## `#` About Data:\n",
    "- You are working as a data scientist in a global finance company. Over the years, the company has collected basic bank details and gathered a lot of credit-related information.\n",
    "-  This is the cleaned , splitted and encoded data which contains the important features. <br>\n",
    "---\n",
    "- The columns are as follows, their names are pretty self explanitory:\n",
    " - `Delay_from_due_date`: The average number of days a payment is delayed from its due date.  \n",
    "- `Outstanding_Debt`: The total amount of debt the customer still owes in USD.  \n",
    "- `Credit_Mix`: Classification of the types of credit accounts (e.g., revolving, installment).  \n",
    "- `Payment_of_Min_Amount`: Whether the customer pays only the minimum amount due on credit cards (Yes/No).  \n",
    "- `Num_Credit_Inquiries`: The number of times the customer has applied for credit.  \n",
    "- `Interest_Rate`: Interest rate applied to the customer’s credit card.  \n",
    "- `Changed_Credit_Limit`: The percentage change in the customer’s credit limit.\n",
    "\n",
    "- `Credit_Score`: The classification of the customer’s creditworthiness (Poor, Standard, Good)."
   ]
  },
  {
   "cell_type": "markdown",
   "id": "CM9CJb_5iGhL",
   "metadata": {
    "id": "CM9CJb_5iGhL"
   },
   "source": [
    "----------------------\n",
    "# `03` Model Train\n",
    "\n",
    "Use the `keras` from Tensorflow to build ANN model that would fit the credit score data and be able to generalize well."
   ]
  },
  {
   "cell_type": "markdown",
   "id": "8uiVkOm4p8k6",
   "metadata": {
    "id": "8uiVkOm4p8k6"
   },
   "source": [
    "## `i` Baseline Model"
   ]
  },
  {
   "cell_type": "code",
   "execution_count": 101,
   "id": "Kb6WZufVifiR",
   "metadata": {
    "colab": {
     "base_uri": "https://localhost:8080/",
     "height": 193
    },
    "id": "Kb6WZufVifiR",
    "outputId": "cd76aa3c-420a-4684-9d4f-e7657562c5f7"
   },
   "outputs": [
    {
     "data": {
      "text/html": [
       "<pre style=\"white-space:pre;overflow-x:auto;line-height:normal;font-family:Menlo,'DejaVu Sans Mono',consolas,'Courier New',monospace\"><span style=\"font-weight: bold\">Model: \"sequential_9\"</span>\n",
       "</pre>\n"
      ],
      "text/plain": [
       "\u001b[1mModel: \"sequential_9\"\u001b[0m\n"
      ]
     },
     "metadata": {},
     "output_type": "display_data"
    },
    {
     "data": {
      "text/html": [
       "<pre style=\"white-space:pre;overflow-x:auto;line-height:normal;font-family:Menlo,'DejaVu Sans Mono',consolas,'Courier New',monospace\">┏━━━━━━━━━━━━━━━━━━━━━━━━━━━━━━━━━━━━━━┳━━━━━━━━━━━━━━━━━━━━━━━━━━━━━┳━━━━━━━━━━━━━━━━━┓\n",
       "┃<span style=\"font-weight: bold\"> Layer (type)                         </span>┃<span style=\"font-weight: bold\"> Output Shape                </span>┃<span style=\"font-weight: bold\">         Param # </span>┃\n",
       "┡━━━━━━━━━━━━━━━━━━━━━━━━━━━━━━━━━━━━━━╇━━━━━━━━━━━━━━━━━━━━━━━━━━━━━╇━━━━━━━━━━━━━━━━━┩\n",
       "│ dense_18 (<span style=\"color: #0087ff; text-decoration-color: #0087ff\">Dense</span>)                     │ (<span style=\"color: #00d7ff; text-decoration-color: #00d7ff\">None</span>, <span style=\"color: #00af00; text-decoration-color: #00af00\">32</span>)                  │             <span style=\"color: #00af00; text-decoration-color: #00af00\">256</span> │\n",
       "├──────────────────────────────────────┼─────────────────────────────┼─────────────────┤\n",
       "│ dense_19 (<span style=\"color: #0087ff; text-decoration-color: #0087ff\">Dense</span>)                     │ (<span style=\"color: #00d7ff; text-decoration-color: #00d7ff\">None</span>, <span style=\"color: #00af00; text-decoration-color: #00af00\">3</span>)                   │              <span style=\"color: #00af00; text-decoration-color: #00af00\">99</span> │\n",
       "└──────────────────────────────────────┴─────────────────────────────┴─────────────────┘\n",
       "</pre>\n"
      ],
      "text/plain": [
       "┏━━━━━━━━━━━━━━━━━━━━━━━━━━━━━━━━━━━━━━┳━━━━━━━━━━━━━━━━━━━━━━━━━━━━━┳━━━━━━━━━━━━━━━━━┓\n",
       "┃\u001b[1m \u001b[0m\u001b[1mLayer (type)                        \u001b[0m\u001b[1m \u001b[0m┃\u001b[1m \u001b[0m\u001b[1mOutput Shape               \u001b[0m\u001b[1m \u001b[0m┃\u001b[1m \u001b[0m\u001b[1m        Param #\u001b[0m\u001b[1m \u001b[0m┃\n",
       "┡━━━━━━━━━━━━━━━━━━━━━━━━━━━━━━━━━━━━━━╇━━━━━━━━━━━━━━━━━━━━━━━━━━━━━╇━━━━━━━━━━━━━━━━━┩\n",
       "│ dense_18 (\u001b[38;5;33mDense\u001b[0m)                     │ (\u001b[38;5;45mNone\u001b[0m, \u001b[38;5;34m32\u001b[0m)                  │             \u001b[38;5;34m256\u001b[0m │\n",
       "├──────────────────────────────────────┼─────────────────────────────┼─────────────────┤\n",
       "│ dense_19 (\u001b[38;5;33mDense\u001b[0m)                     │ (\u001b[38;5;45mNone\u001b[0m, \u001b[38;5;34m3\u001b[0m)                   │              \u001b[38;5;34m99\u001b[0m │\n",
       "└──────────────────────────────────────┴─────────────────────────────┴─────────────────┘\n"
      ]
     },
     "metadata": {},
     "output_type": "display_data"
    },
    {
     "data": {
      "text/html": [
       "<pre style=\"white-space:pre;overflow-x:auto;line-height:normal;font-family:Menlo,'DejaVu Sans Mono',consolas,'Courier New',monospace\"><span style=\"font-weight: bold\"> Total params: </span><span style=\"color: #00af00; text-decoration-color: #00af00\">355</span> (1.39 KB)\n",
       "</pre>\n"
      ],
      "text/plain": [
       "\u001b[1m Total params: \u001b[0m\u001b[38;5;34m355\u001b[0m (1.39 KB)\n"
      ]
     },
     "metadata": {},
     "output_type": "display_data"
    },
    {
     "data": {
      "text/html": [
       "<pre style=\"white-space:pre;overflow-x:auto;line-height:normal;font-family:Menlo,'DejaVu Sans Mono',consolas,'Courier New',monospace\"><span style=\"font-weight: bold\"> Trainable params: </span><span style=\"color: #00af00; text-decoration-color: #00af00\">355</span> (1.39 KB)\n",
       "</pre>\n"
      ],
      "text/plain": [
       "\u001b[1m Trainable params: \u001b[0m\u001b[38;5;34m355\u001b[0m (1.39 KB)\n"
      ]
     },
     "metadata": {},
     "output_type": "display_data"
    },
    {
     "data": {
      "text/html": [
       "<pre style=\"white-space:pre;overflow-x:auto;line-height:normal;font-family:Menlo,'DejaVu Sans Mono',consolas,'Courier New',monospace\"><span style=\"font-weight: bold\"> Non-trainable params: </span><span style=\"color: #00af00; text-decoration-color: #00af00\">0</span> (0.00 B)\n",
       "</pre>\n"
      ],
      "text/plain": [
       "\u001b[1m Non-trainable params: \u001b[0m\u001b[38;5;34m0\u001b[0m (0.00 B)\n"
      ]
     },
     "metadata": {},
     "output_type": "display_data"
    }
   ],
   "source": [
    "# Model Build\n",
    "model = Sequential()\n",
    "model.add(Input((7,)))\n",
    "model.add(Dense(32, activation='relu'))\n",
    "model.add(Dense(3, activation='softmax'))\n",
    "model.summary()"
   ]
  },
  {
   "cell_type": "code",
   "execution_count": 102,
   "id": "Cfhn_k64uCbV",
   "metadata": {
    "id": "Cfhn_k64uCbV"
   },
   "outputs": [],
   "source": [
    "model.compile(keras.optimizers.Adam(0.01), loss='sparse_categorical_crossentropy', metrics=['accuracy'])"
   ]
  },
  {
   "cell_type": "code",
   "execution_count": 103,
   "id": "FT5ig3Arqbrg",
   "metadata": {
    "colab": {
     "base_uri": "https://localhost:8080/"
    },
    "id": "FT5ig3Arqbrg",
    "outputId": "3e629b41-f9af-4c64-a5fc-140fb91e2a7a"
   },
   "outputs": [
    {
     "name": "stdout",
     "output_type": "stream",
     "text": [
      "Epoch 1/200\n",
      "\u001b[1m860/860\u001b[0m \u001b[32m━━━━━━━━━━━━━━━━━━━━\u001b[0m\u001b[37m\u001b[0m \u001b[1m9s\u001b[0m 9ms/step - accuracy: 0.6270 - loss: 0.7986 - val_accuracy: 0.6714 - val_loss: 0.7274\n",
      "Epoch 2/200\n",
      "\u001b[1m860/860\u001b[0m \u001b[32m━━━━━━━━━━━━━━━━━━━━\u001b[0m\u001b[37m\u001b[0m \u001b[1m3s\u001b[0m 3ms/step - accuracy: 0.6587 - loss: 0.7527 - val_accuracy: 0.6792 - val_loss: 0.7194\n",
      "Epoch 3/200\n",
      "\u001b[1m860/860\u001b[0m \u001b[32m━━━━━━━━━━━━━━━━━━━━\u001b[0m\u001b[37m\u001b[0m \u001b[1m3s\u001b[0m 4ms/step - accuracy: 0.6612 - loss: 0.7482 - val_accuracy: 0.6829 - val_loss: 0.7162\n",
      "Epoch 4/200\n",
      "\u001b[1m860/860\u001b[0m \u001b[32m━━━━━━━━━━━━━━━━━━━━\u001b[0m\u001b[37m\u001b[0m \u001b[1m5s\u001b[0m 6ms/step - accuracy: 0.6613 - loss: 0.7457 - val_accuracy: 0.6852 - val_loss: 0.7147\n",
      "Epoch 5/200\n",
      "\u001b[1m860/860\u001b[0m \u001b[32m━━━━━━━━━━━━━━━━━━━━\u001b[0m\u001b[37m\u001b[0m \u001b[1m3s\u001b[0m 4ms/step - accuracy: 0.6620 - loss: 0.7441 - val_accuracy: 0.6887 - val_loss: 0.7162\n",
      "Epoch 6/200\n",
      "\u001b[1m860/860\u001b[0m \u001b[32m━━━━━━━━━━━━━━━━━━━━\u001b[0m\u001b[37m\u001b[0m \u001b[1m7s\u001b[0m 8ms/step - accuracy: 0.6628 - loss: 0.7429 - val_accuracy: 0.6827 - val_loss: 0.7130\n",
      "Epoch 7/200\n",
      "\u001b[1m860/860\u001b[0m \u001b[32m━━━━━━━━━━━━━━━━━━━━\u001b[0m\u001b[37m\u001b[0m \u001b[1m7s\u001b[0m 8ms/step - accuracy: 0.6623 - loss: 0.7416 - val_accuracy: 0.6856 - val_loss: 0.7122\n",
      "Epoch 8/200\n",
      "\u001b[1m860/860\u001b[0m \u001b[32m━━━━━━━━━━━━━━━━━━━━\u001b[0m\u001b[37m\u001b[0m \u001b[1m6s\u001b[0m 3ms/step - accuracy: 0.6637 - loss: 0.7407 - val_accuracy: 0.6842 - val_loss: 0.7126\n",
      "Epoch 9/200\n",
      "\u001b[1m860/860\u001b[0m \u001b[32m━━━━━━━━━━━━━━━━━━━━\u001b[0m\u001b[37m\u001b[0m \u001b[1m4s\u001b[0m 4ms/step - accuracy: 0.6644 - loss: 0.7399 - val_accuracy: 0.6825 - val_loss: 0.7127\n",
      "Epoch 10/200\n",
      "\u001b[1m860/860\u001b[0m \u001b[32m━━━━━━━━━━━━━━━━━━━━\u001b[0m\u001b[37m\u001b[0m \u001b[1m4s\u001b[0m 3ms/step - accuracy: 0.6654 - loss: 0.7393 - val_accuracy: 0.6852 - val_loss: 0.7153\n",
      "Epoch 11/200\n",
      "\u001b[1m860/860\u001b[0m \u001b[32m━━━━━━━━━━━━━━━━━━━━\u001b[0m\u001b[37m\u001b[0m \u001b[1m3s\u001b[0m 3ms/step - accuracy: 0.6667 - loss: 0.7397 - val_accuracy: 0.6842 - val_loss: 0.7123\n",
      "Epoch 12/200\n",
      "\u001b[1m860/860\u001b[0m \u001b[32m━━━━━━━━━━━━━━━━━━━━\u001b[0m\u001b[37m\u001b[0m \u001b[1m6s\u001b[0m 4ms/step - accuracy: 0.6666 - loss: 0.7392 - val_accuracy: 0.6815 - val_loss: 0.7116\n",
      "Epoch 13/200\n",
      "\u001b[1m860/860\u001b[0m \u001b[32m━━━━━━━━━━━━━━━━━━━━\u001b[0m\u001b[37m\u001b[0m \u001b[1m5s\u001b[0m 5ms/step - accuracy: 0.6671 - loss: 0.7392 - val_accuracy: 0.6850 - val_loss: 0.7117\n",
      "Epoch 14/200\n",
      "\u001b[1m860/860\u001b[0m \u001b[32m━━━━━━━━━━━━━━━━━━━━\u001b[0m\u001b[37m\u001b[0m \u001b[1m5s\u001b[0m 5ms/step - accuracy: 0.6678 - loss: 0.7388 - val_accuracy: 0.6899 - val_loss: 0.7108\n",
      "Epoch 15/200\n",
      "\u001b[1m860/860\u001b[0m \u001b[32m━━━━━━━━━━━━━━━━━━━━\u001b[0m\u001b[37m\u001b[0m \u001b[1m4s\u001b[0m 3ms/step - accuracy: 0.6675 - loss: 0.7385 - val_accuracy: 0.6873 - val_loss: 0.7102\n",
      "Epoch 16/200\n",
      "\u001b[1m860/860\u001b[0m \u001b[32m━━━━━━━━━━━━━━━━━━━━\u001b[0m\u001b[37m\u001b[0m \u001b[1m3s\u001b[0m 4ms/step - accuracy: 0.6677 - loss: 0.7380 - val_accuracy: 0.6877 - val_loss: 0.7110\n",
      "Epoch 17/200\n",
      "\u001b[1m860/860\u001b[0m \u001b[32m━━━━━━━━━━━━━━━━━━━━\u001b[0m\u001b[37m\u001b[0m \u001b[1m4s\u001b[0m 3ms/step - accuracy: 0.6683 - loss: 0.7379 - val_accuracy: 0.6862 - val_loss: 0.7103\n",
      "Epoch 18/200\n",
      "\u001b[1m860/860\u001b[0m \u001b[32m━━━━━━━━━━━━━━━━━━━━\u001b[0m\u001b[37m\u001b[0m \u001b[1m5s\u001b[0m 6ms/step - accuracy: 0.6686 - loss: 0.7379 - val_accuracy: 0.6885 - val_loss: 0.7108\n",
      "Epoch 19/200\n",
      "\u001b[1m860/860\u001b[0m \u001b[32m━━━━━━━━━━━━━━━━━━━━\u001b[0m\u001b[37m\u001b[0m \u001b[1m3s\u001b[0m 4ms/step - accuracy: 0.6690 - loss: 0.7380 - val_accuracy: 0.6912 - val_loss: 0.7099\n",
      "Epoch 20/200\n",
      "\u001b[1m860/860\u001b[0m \u001b[32m━━━━━━━━━━━━━━━━━━━━\u001b[0m\u001b[37m\u001b[0m \u001b[1m3s\u001b[0m 4ms/step - accuracy: 0.6690 - loss: 0.7379 - val_accuracy: 0.6891 - val_loss: 0.7104\n",
      "Epoch 21/200\n",
      "\u001b[1m860/860\u001b[0m \u001b[32m━━━━━━━━━━━━━━━━━━━━\u001b[0m\u001b[37m\u001b[0m \u001b[1m6s\u001b[0m 5ms/step - accuracy: 0.6692 - loss: 0.7377 - val_accuracy: 0.6885 - val_loss: 0.7102\n",
      "Epoch 22/200\n",
      "\u001b[1m860/860\u001b[0m \u001b[32m━━━━━━━━━━━━━━━━━━━━\u001b[0m\u001b[37m\u001b[0m \u001b[1m4s\u001b[0m 4ms/step - accuracy: 0.6688 - loss: 0.7378 - val_accuracy: 0.6908 - val_loss: 0.7096\n",
      "Epoch 23/200\n",
      "\u001b[1m860/860\u001b[0m \u001b[32m━━━━━━━━━━━━━━━━━━━━\u001b[0m\u001b[37m\u001b[0m \u001b[1m4s\u001b[0m 5ms/step - accuracy: 0.6684 - loss: 0.7379 - val_accuracy: 0.6902 - val_loss: 0.7104\n",
      "Epoch 24/200\n",
      "\u001b[1m860/860\u001b[0m \u001b[32m━━━━━━━━━━━━━━━━━━━━\u001b[0m\u001b[37m\u001b[0m \u001b[1m6s\u001b[0m 6ms/step - accuracy: 0.6686 - loss: 0.7377 - val_accuracy: 0.6908 - val_loss: 0.7095\n",
      "Epoch 25/200\n",
      "\u001b[1m860/860\u001b[0m \u001b[32m━━━━━━━━━━━━━━━━━━━━\u001b[0m\u001b[37m\u001b[0m \u001b[1m4s\u001b[0m 5ms/step - accuracy: 0.6688 - loss: 0.7377 - val_accuracy: 0.6889 - val_loss: 0.7098\n",
      "Epoch 26/200\n",
      "\u001b[1m860/860\u001b[0m \u001b[32m━━━━━━━━━━━━━━━━━━━━\u001b[0m\u001b[37m\u001b[0m \u001b[1m3s\u001b[0m 4ms/step - accuracy: 0.6696 - loss: 0.7370 - val_accuracy: 0.6895 - val_loss: 0.7099\n",
      "Epoch 27/200\n",
      "\u001b[1m860/860\u001b[0m \u001b[32m━━━━━━━━━━━━━━━━━━━━\u001b[0m\u001b[37m\u001b[0m \u001b[1m5s\u001b[0m 3ms/step - accuracy: 0.6689 - loss: 0.7370 - val_accuracy: 0.6885 - val_loss: 0.7111\n",
      "Epoch 28/200\n",
      "\u001b[1m860/860\u001b[0m \u001b[32m━━━━━━━━━━━━━━━━━━━━\u001b[0m\u001b[37m\u001b[0m \u001b[1m6s\u001b[0m 4ms/step - accuracy: 0.6688 - loss: 0.7370 - val_accuracy: 0.6897 - val_loss: 0.7099\n",
      "Epoch 29/200\n",
      "\u001b[1m860/860\u001b[0m \u001b[32m━━━━━━━━━━━━━━━━━━━━\u001b[0m\u001b[37m\u001b[0m \u001b[1m6s\u001b[0m 5ms/step - accuracy: 0.6683 - loss: 0.7373 - val_accuracy: 0.6893 - val_loss: 0.7097\n",
      "Epoch 30/200\n",
      "\u001b[1m860/860\u001b[0m \u001b[32m━━━━━━━━━━━━━━━━━━━━\u001b[0m\u001b[37m\u001b[0m \u001b[1m4s\u001b[0m 3ms/step - accuracy: 0.6691 - loss: 0.7367 - val_accuracy: 0.6875 - val_loss: 0.7101\n",
      "Epoch 31/200\n",
      "\u001b[1m860/860\u001b[0m \u001b[32m━━━━━━━━━━━━━━━━━━━━\u001b[0m\u001b[37m\u001b[0m \u001b[1m3s\u001b[0m 4ms/step - accuracy: 0.6703 - loss: 0.7369 - val_accuracy: 0.6897 - val_loss: 0.7100\n",
      "Epoch 32/200\n",
      "\u001b[1m860/860\u001b[0m \u001b[32m━━━━━━━━━━━━━━━━━━━━\u001b[0m\u001b[37m\u001b[0m \u001b[1m4s\u001b[0m 5ms/step - accuracy: 0.6692 - loss: 0.7370 - val_accuracy: 0.6891 - val_loss: 0.7098\n",
      "Epoch 33/200\n",
      "\u001b[1m860/860\u001b[0m \u001b[32m━━━━━━━━━━━━━━━━━━━━\u001b[0m\u001b[37m\u001b[0m \u001b[1m4s\u001b[0m 4ms/step - accuracy: 0.6698 - loss: 0.7364 - val_accuracy: 0.6873 - val_loss: 0.7117\n",
      "Epoch 34/200\n",
      "\u001b[1m860/860\u001b[0m \u001b[32m━━━━━━━━━━━━━━━━━━━━\u001b[0m\u001b[37m\u001b[0m \u001b[1m4s\u001b[0m 3ms/step - accuracy: 0.6703 - loss: 0.7367 - val_accuracy: 0.6895 - val_loss: 0.7102\n",
      "Epoch 35/200\n",
      "\u001b[1m860/860\u001b[0m \u001b[32m━━━━━━━━━━━━━━━━━━━━\u001b[0m\u001b[37m\u001b[0m \u001b[1m3s\u001b[0m 4ms/step - accuracy: 0.6700 - loss: 0.7364 - val_accuracy: 0.6897 - val_loss: 0.7101\n",
      "Epoch 36/200\n",
      "\u001b[1m860/860\u001b[0m \u001b[32m━━━━━━━━━━━━━━━━━━━━\u001b[0m\u001b[37m\u001b[0m \u001b[1m4s\u001b[0m 4ms/step - accuracy: 0.6691 - loss: 0.7366 - val_accuracy: 0.6889 - val_loss: 0.7109\n",
      "Epoch 37/200\n",
      "\u001b[1m860/860\u001b[0m \u001b[32m━━━━━━━━━━━━━━━━━━━━\u001b[0m\u001b[37m\u001b[0m \u001b[1m3s\u001b[0m 3ms/step - accuracy: 0.6697 - loss: 0.7366 - val_accuracy: 0.6908 - val_loss: 0.7099\n",
      "Epoch 38/200\n",
      "\u001b[1m860/860\u001b[0m \u001b[32m━━━━━━━━━━━━━━━━━━━━\u001b[0m\u001b[37m\u001b[0m \u001b[1m5s\u001b[0m 3ms/step - accuracy: 0.6698 - loss: 0.7360 - val_accuracy: 0.6902 - val_loss: 0.7097\n",
      "Epoch 39/200\n",
      "\u001b[1m860/860\u001b[0m \u001b[32m━━━━━━━━━━━━━━━━━━━━\u001b[0m\u001b[37m\u001b[0m \u001b[1m4s\u001b[0m 5ms/step - accuracy: 0.6700 - loss: 0.7362 - val_accuracy: 0.6899 - val_loss: 0.7101\n",
      "Epoch 40/200\n",
      "\u001b[1m860/860\u001b[0m \u001b[32m━━━━━━━━━━━━━━━━━━━━\u001b[0m\u001b[37m\u001b[0m \u001b[1m4s\u001b[0m 3ms/step - accuracy: 0.6706 - loss: 0.7362 - val_accuracy: 0.6899 - val_loss: 0.7105\n",
      "Epoch 41/200\n",
      "\u001b[1m860/860\u001b[0m \u001b[32m━━━━━━━━━━━━━━━━━━━━\u001b[0m\u001b[37m\u001b[0m \u001b[1m3s\u001b[0m 3ms/step - accuracy: 0.6699 - loss: 0.7360 - val_accuracy: 0.6895 - val_loss: 0.7094\n",
      "Epoch 42/200\n",
      "\u001b[1m860/860\u001b[0m \u001b[32m━━━━━━━━━━━━━━━━━━━━\u001b[0m\u001b[37m\u001b[0m \u001b[1m5s\u001b[0m 4ms/step - accuracy: 0.6699 - loss: 0.7361 - val_accuracy: 0.6897 - val_loss: 0.7115\n",
      "Epoch 43/200\n",
      "\u001b[1m860/860\u001b[0m \u001b[32m━━━━━━━━━━━━━━━━━━━━\u001b[0m\u001b[37m\u001b[0m \u001b[1m5s\u001b[0m 3ms/step - accuracy: 0.6702 - loss: 0.7363 - val_accuracy: 0.6922 - val_loss: 0.7110\n",
      "Epoch 44/200\n",
      "\u001b[1m860/860\u001b[0m \u001b[32m━━━━━━━━━━━━━━━━━━━━\u001b[0m\u001b[37m\u001b[0m \u001b[1m5s\u001b[0m 3ms/step - accuracy: 0.6704 - loss: 0.7361 - val_accuracy: 0.6908 - val_loss: 0.7093\n",
      "Epoch 45/200\n",
      "\u001b[1m860/860\u001b[0m \u001b[32m━━━━━━━━━━━━━━━━━━━━\u001b[0m\u001b[37m\u001b[0m \u001b[1m3s\u001b[0m 4ms/step - accuracy: 0.6699 - loss: 0.7361 - val_accuracy: 0.6918 - val_loss: 0.7088\n",
      "Epoch 46/200\n",
      "\u001b[1m860/860\u001b[0m \u001b[32m━━━━━━━━━━━━━━━━━━━━\u001b[0m\u001b[37m\u001b[0m \u001b[1m3s\u001b[0m 3ms/step - accuracy: 0.6704 - loss: 0.7356 - val_accuracy: 0.6893 - val_loss: 0.7100\n",
      "Epoch 47/200\n",
      "\u001b[1m860/860\u001b[0m \u001b[32m━━━━━━━━━━━━━━━━━━━━\u001b[0m\u001b[37m\u001b[0m \u001b[1m3s\u001b[0m 3ms/step - accuracy: 0.6708 - loss: 0.7357 - val_accuracy: 0.6895 - val_loss: 0.7092\n",
      "Epoch 48/200\n",
      "\u001b[1m860/860\u001b[0m \u001b[32m━━━━━━━━━━━━━━━━━━━━\u001b[0m\u001b[37m\u001b[0m \u001b[1m5s\u001b[0m 3ms/step - accuracy: 0.6697 - loss: 0.7356 - val_accuracy: 0.6906 - val_loss: 0.7103\n",
      "Epoch 49/200\n",
      "\u001b[1m860/860\u001b[0m \u001b[32m━━━━━━━━━━━━━━━━━━━━\u001b[0m\u001b[37m\u001b[0m \u001b[1m4s\u001b[0m 4ms/step - accuracy: 0.6710 - loss: 0.7357 - val_accuracy: 0.6924 - val_loss: 0.7093\n",
      "Epoch 50/200\n",
      "\u001b[1m860/860\u001b[0m \u001b[32m━━━━━━━━━━━━━━━━━━━━\u001b[0m\u001b[37m\u001b[0m \u001b[1m3s\u001b[0m 2ms/step - accuracy: 0.6700 - loss: 0.7356 - val_accuracy: 0.6910 - val_loss: 0.7111\n",
      "Epoch 51/200\n",
      "\u001b[1m860/860\u001b[0m \u001b[32m━━━━━━━━━━━━━━━━━━━━\u001b[0m\u001b[37m\u001b[0m \u001b[1m3s\u001b[0m 4ms/step - accuracy: 0.6711 - loss: 0.7356 - val_accuracy: 0.6906 - val_loss: 0.7098\n",
      "Epoch 52/200\n",
      "\u001b[1m860/860\u001b[0m \u001b[32m━━━━━━━━━━━━━━━━━━━━\u001b[0m\u001b[37m\u001b[0m \u001b[1m5s\u001b[0m 4ms/step - accuracy: 0.6706 - loss: 0.7354 - val_accuracy: 0.6899 - val_loss: 0.7105\n",
      "Epoch 53/200\n",
      "\u001b[1m860/860\u001b[0m \u001b[32m━━━━━━━━━━━━━━━━━━━━\u001b[0m\u001b[37m\u001b[0m \u001b[1m4s\u001b[0m 2ms/step - accuracy: 0.6705 - loss: 0.7354 - val_accuracy: 0.6895 - val_loss: 0.7106\n",
      "Epoch 54/200\n",
      "\u001b[1m860/860\u001b[0m \u001b[32m━━━━━━━━━━━━━━━━━━━━\u001b[0m\u001b[37m\u001b[0m \u001b[1m3s\u001b[0m 3ms/step - accuracy: 0.6706 - loss: 0.7351 - val_accuracy: 0.6902 - val_loss: 0.7102\n",
      "Epoch 55/200\n",
      "\u001b[1m860/860\u001b[0m \u001b[32m━━━━━━━━━━━━━━━━━━━━\u001b[0m\u001b[37m\u001b[0m \u001b[1m6s\u001b[0m 4ms/step - accuracy: 0.6714 - loss: 0.7353 - val_accuracy: 0.6897 - val_loss: 0.7105\n",
      "Epoch 56/200\n",
      "\u001b[1m860/860\u001b[0m \u001b[32m━━━━━━━━━━━━━━━━━━━━\u001b[0m\u001b[37m\u001b[0m \u001b[1m4s\u001b[0m 3ms/step - accuracy: 0.6715 - loss: 0.7352 - val_accuracy: 0.6914 - val_loss: 0.7115\n",
      "Epoch 57/200\n",
      "\u001b[1m860/860\u001b[0m \u001b[32m━━━━━━━━━━━━━━━━━━━━\u001b[0m\u001b[37m\u001b[0m \u001b[1m3s\u001b[0m 3ms/step - accuracy: 0.6720 - loss: 0.7356 - val_accuracy: 0.6904 - val_loss: 0.7097\n",
      "Epoch 58/200\n",
      "\u001b[1m860/860\u001b[0m \u001b[32m━━━━━━━━━━━━━━━━━━━━\u001b[0m\u001b[37m\u001b[0m \u001b[1m6s\u001b[0m 4ms/step - accuracy: 0.6712 - loss: 0.7350 - val_accuracy: 0.6902 - val_loss: 0.7108\n",
      "Epoch 59/200\n",
      "\u001b[1m860/860\u001b[0m \u001b[32m━━━━━━━━━━━━━━━━━━━━\u001b[0m\u001b[37m\u001b[0m \u001b[1m4s\u001b[0m 2ms/step - accuracy: 0.6718 - loss: 0.7354 - val_accuracy: 0.6916 - val_loss: 0.7104\n",
      "Epoch 60/200\n",
      "\u001b[1m860/860\u001b[0m \u001b[32m━━━━━━━━━━━━━━━━━━━━\u001b[0m\u001b[37m\u001b[0m \u001b[1m3s\u001b[0m 3ms/step - accuracy: 0.6720 - loss: 0.7357 - val_accuracy: 0.6926 - val_loss: 0.7099\n",
      "Epoch 61/200\n",
      "\u001b[1m860/860\u001b[0m \u001b[32m━━━━━━━━━━━━━━━━━━━━\u001b[0m\u001b[37m\u001b[0m \u001b[1m7s\u001b[0m 5ms/step - accuracy: 0.6720 - loss: 0.7354 - val_accuracy: 0.6904 - val_loss: 0.7099\n",
      "Epoch 62/200\n",
      "\u001b[1m860/860\u001b[0m \u001b[32m━━━━━━━━━━━━━━━━━━━━\u001b[0m\u001b[37m\u001b[0m \u001b[1m3s\u001b[0m 4ms/step - accuracy: 0.6712 - loss: 0.7355 - val_accuracy: 0.6918 - val_loss: 0.7096\n",
      "Epoch 63/200\n",
      "\u001b[1m860/860\u001b[0m \u001b[32m━━━━━━━━━━━━━━━━━━━━\u001b[0m\u001b[37m\u001b[0m \u001b[1m5s\u001b[0m 5ms/step - accuracy: 0.6716 - loss: 0.7357 - val_accuracy: 0.6906 - val_loss: 0.7100\n",
      "Epoch 64/200\n",
      "\u001b[1m860/860\u001b[0m \u001b[32m━━━━━━━━━━━━━━━━━━━━\u001b[0m\u001b[37m\u001b[0m \u001b[1m4s\u001b[0m 4ms/step - accuracy: 0.6723 - loss: 0.7354 - val_accuracy: 0.6912 - val_loss: 0.7097\n",
      "Epoch 65/200\n",
      "\u001b[1m860/860\u001b[0m \u001b[32m━━━━━━━━━━━━━━━━━━━━\u001b[0m\u001b[37m\u001b[0m \u001b[1m4s\u001b[0m 3ms/step - accuracy: 0.6716 - loss: 0.7356 - val_accuracy: 0.6906 - val_loss: 0.7115\n",
      "Epoch 66/200\n",
      "\u001b[1m860/860\u001b[0m \u001b[32m━━━━━━━━━━━━━━━━━━━━\u001b[0m\u001b[37m\u001b[0m \u001b[1m2s\u001b[0m 3ms/step - accuracy: 0.6713 - loss: 0.7352 - val_accuracy: 0.6916 - val_loss: 0.7107\n",
      "Epoch 67/200\n",
      "\u001b[1m860/860\u001b[0m \u001b[32m━━━━━━━━━━━━━━━━━━━━\u001b[0m\u001b[37m\u001b[0m \u001b[1m3s\u001b[0m 3ms/step - accuracy: 0.6713 - loss: 0.7354 - val_accuracy: 0.6891 - val_loss: 0.7114\n",
      "Epoch 68/200\n",
      "\u001b[1m860/860\u001b[0m \u001b[32m━━━━━━━━━━━━━━━━━━━━\u001b[0m\u001b[37m\u001b[0m \u001b[1m4s\u001b[0m 4ms/step - accuracy: 0.6711 - loss: 0.7357 - val_accuracy: 0.6902 - val_loss: 0.7118\n",
      "Epoch 69/200\n",
      "\u001b[1m860/860\u001b[0m \u001b[32m━━━━━━━━━━━━━━━━━━━━\u001b[0m\u001b[37m\u001b[0m \u001b[1m3s\u001b[0m 3ms/step - accuracy: 0.6717 - loss: 0.7356 - val_accuracy: 0.6902 - val_loss: 0.7122\n",
      "Epoch 70/200\n",
      "\u001b[1m860/860\u001b[0m \u001b[32m━━━━━━━━━━━━━━━━━━━━\u001b[0m\u001b[37m\u001b[0m \u001b[1m3s\u001b[0m 3ms/step - accuracy: 0.6712 - loss: 0.7359 - val_accuracy: 0.6899 - val_loss: 0.7116\n",
      "Epoch 71/200\n",
      "\u001b[1m860/860\u001b[0m \u001b[32m━━━━━━━━━━━━━━━━━━━━\u001b[0m\u001b[37m\u001b[0m \u001b[1m3s\u001b[0m 4ms/step - accuracy: 0.6708 - loss: 0.7358 - val_accuracy: 0.6920 - val_loss: 0.7116\n",
      "Epoch 72/200\n",
      "\u001b[1m860/860\u001b[0m \u001b[32m━━━━━━━━━━━━━━━━━━━━\u001b[0m\u001b[37m\u001b[0m \u001b[1m4s\u001b[0m 4ms/step - accuracy: 0.6723 - loss: 0.7354 - val_accuracy: 0.6922 - val_loss: 0.7117\n",
      "Epoch 73/200\n",
      "\u001b[1m860/860\u001b[0m \u001b[32m━━━━━━━━━━━━━━━━━━━━\u001b[0m\u001b[37m\u001b[0m \u001b[1m4s\u001b[0m 3ms/step - accuracy: 0.6710 - loss: 0.7356 - val_accuracy: 0.6926 - val_loss: 0.7108\n",
      "Epoch 74/200\n",
      "\u001b[1m860/860\u001b[0m \u001b[32m━━━━━━━━━━━━━━━━━━━━\u001b[0m\u001b[37m\u001b[0m \u001b[1m5s\u001b[0m 3ms/step - accuracy: 0.6710 - loss: 0.7353 - val_accuracy: 0.6924 - val_loss: 0.7118\n",
      "Epoch 75/200\n",
      "\u001b[1m860/860\u001b[0m \u001b[32m━━━━━━━━━━━━━━━━━━━━\u001b[0m\u001b[37m\u001b[0m \u001b[1m4s\u001b[0m 4ms/step - accuracy: 0.6714 - loss: 0.7354 - val_accuracy: 0.6918 - val_loss: 0.7115\n",
      "Epoch 76/200\n",
      "\u001b[1m860/860\u001b[0m \u001b[32m━━━━━━━━━━━━━━━━━━━━\u001b[0m\u001b[37m\u001b[0m \u001b[1m4s\u001b[0m 3ms/step - accuracy: 0.6718 - loss: 0.7353 - val_accuracy: 0.6920 - val_loss: 0.7115\n",
      "Epoch 77/200\n",
      "\u001b[1m860/860\u001b[0m \u001b[32m━━━━━━━━━━━━━━━━━━━━\u001b[0m\u001b[37m\u001b[0m \u001b[1m3s\u001b[0m 3ms/step - accuracy: 0.6710 - loss: 0.7355 - val_accuracy: 0.6920 - val_loss: 0.7113\n",
      "Epoch 78/200\n",
      "\u001b[1m860/860\u001b[0m \u001b[32m━━━━━━━━━━━━━━━━━━━━\u001b[0m\u001b[37m\u001b[0m \u001b[1m7s\u001b[0m 5ms/step - accuracy: 0.6706 - loss: 0.7357 - val_accuracy: 0.6922 - val_loss: 0.7118\n",
      "Epoch 79/200\n",
      "\u001b[1m860/860\u001b[0m \u001b[32m━━━━━━━━━━━━━━━━━━━━\u001b[0m\u001b[37m\u001b[0m \u001b[1m3s\u001b[0m 3ms/step - accuracy: 0.6720 - loss: 0.7356 - val_accuracy: 0.6908 - val_loss: 0.7119\n",
      "Epoch 80/200\n",
      "\u001b[1m860/860\u001b[0m \u001b[32m━━━━━━━━━━━━━━━━━━━━\u001b[0m\u001b[37m\u001b[0m \u001b[1m3s\u001b[0m 3ms/step - accuracy: 0.6703 - loss: 0.7357 - val_accuracy: 0.6908 - val_loss: 0.7120\n",
      "Epoch 81/200\n",
      "\u001b[1m860/860\u001b[0m \u001b[32m━━━━━━━━━━━━━━━━━━━━\u001b[0m\u001b[37m\u001b[0m \u001b[1m6s\u001b[0m 5ms/step - accuracy: 0.6714 - loss: 0.7358 - val_accuracy: 0.6893 - val_loss: 0.7122\n",
      "Epoch 82/200\n",
      "\u001b[1m860/860\u001b[0m \u001b[32m━━━━━━━━━━━━━━━━━━━━\u001b[0m\u001b[37m\u001b[0m \u001b[1m3s\u001b[0m 2ms/step - accuracy: 0.6711 - loss: 0.7361 - val_accuracy: 0.6930 - val_loss: 0.7112\n",
      "Epoch 83/200\n",
      "\u001b[1m860/860\u001b[0m \u001b[32m━━━━━━━━━━━━━━━━━━━━\u001b[0m\u001b[37m\u001b[0m \u001b[1m3s\u001b[0m 3ms/step - accuracy: 0.6723 - loss: 0.7352 - val_accuracy: 0.6924 - val_loss: 0.7111\n",
      "Epoch 84/200\n",
      "\u001b[1m860/860\u001b[0m \u001b[32m━━━━━━━━━━━━━━━━━━━━\u001b[0m\u001b[37m\u001b[0m \u001b[1m6s\u001b[0m 4ms/step - accuracy: 0.6707 - loss: 0.7354 - val_accuracy: 0.6906 - val_loss: 0.7110\n",
      "Epoch 85/200\n",
      "\u001b[1m860/860\u001b[0m \u001b[32m━━━━━━━━━━━━━━━━━━━━\u001b[0m\u001b[37m\u001b[0m \u001b[1m5s\u001b[0m 3ms/step - accuracy: 0.6704 - loss: 0.7358 - val_accuracy: 0.6916 - val_loss: 0.7112\n",
      "Epoch 86/200\n",
      "\u001b[1m860/860\u001b[0m \u001b[32m━━━━━━━━━━━━━━━━━━━━\u001b[0m\u001b[37m\u001b[0m \u001b[1m3s\u001b[0m 3ms/step - accuracy: 0.6708 - loss: 0.7357 - val_accuracy: 0.6916 - val_loss: 0.7109\n",
      "Epoch 87/200\n",
      "\u001b[1m860/860\u001b[0m \u001b[32m━━━━━━━━━━━━━━━━━━━━\u001b[0m\u001b[37m\u001b[0m \u001b[1m2s\u001b[0m 3ms/step - accuracy: 0.6714 - loss: 0.7354 - val_accuracy: 0.6908 - val_loss: 0.7114\n",
      "Epoch 88/200\n",
      "\u001b[1m860/860\u001b[0m \u001b[32m━━━━━━━━━━━━━━━━━━━━\u001b[0m\u001b[37m\u001b[0m \u001b[1m3s\u001b[0m 4ms/step - accuracy: 0.6708 - loss: 0.7356 - val_accuracy: 0.6916 - val_loss: 0.7114\n",
      "Epoch 89/200\n",
      "\u001b[1m860/860\u001b[0m \u001b[32m━━━━━━━━━━━━━━━━━━━━\u001b[0m\u001b[37m\u001b[0m \u001b[1m4s\u001b[0m 3ms/step - accuracy: 0.6722 - loss: 0.7355 - val_accuracy: 0.6922 - val_loss: 0.7115\n",
      "Epoch 90/200\n",
      "\u001b[1m860/860\u001b[0m \u001b[32m━━━━━━━━━━━━━━━━━━━━\u001b[0m\u001b[37m\u001b[0m \u001b[1m3s\u001b[0m 3ms/step - accuracy: 0.6716 - loss: 0.7356 - val_accuracy: 0.6918 - val_loss: 0.7118\n",
      "Epoch 91/200\n",
      "\u001b[1m860/860\u001b[0m \u001b[32m━━━━━━━━━━━━━━━━━━━━\u001b[0m\u001b[37m\u001b[0m \u001b[1m6s\u001b[0m 5ms/step - accuracy: 0.6713 - loss: 0.7353 - val_accuracy: 0.6932 - val_loss: 0.7119\n",
      "Epoch 92/200\n",
      "\u001b[1m860/860\u001b[0m \u001b[32m━━━━━━━━━━━━━━━━━━━━\u001b[0m\u001b[37m\u001b[0m \u001b[1m3s\u001b[0m 3ms/step - accuracy: 0.6719 - loss: 0.7356 - val_accuracy: 0.6918 - val_loss: 0.7118\n",
      "Epoch 93/200\n",
      "\u001b[1m860/860\u001b[0m \u001b[32m━━━━━━━━━━━━━━━━━━━━\u001b[0m\u001b[37m\u001b[0m \u001b[1m6s\u001b[0m 4ms/step - accuracy: 0.6707 - loss: 0.7354 - val_accuracy: 0.6912 - val_loss: 0.7118\n",
      "Epoch 94/200\n",
      "\u001b[1m860/860\u001b[0m \u001b[32m━━━━━━━━━━━━━━━━━━━━\u001b[0m\u001b[37m\u001b[0m \u001b[1m6s\u001b[0m 5ms/step - accuracy: 0.6711 - loss: 0.7355 - val_accuracy: 0.6926 - val_loss: 0.7118\n",
      "Epoch 95/200\n",
      "\u001b[1m860/860\u001b[0m \u001b[32m━━━━━━━━━━━━━━━━━━━━\u001b[0m\u001b[37m\u001b[0m \u001b[1m3s\u001b[0m 3ms/step - accuracy: 0.6711 - loss: 0.7354 - val_accuracy: 0.6926 - val_loss: 0.7114\n",
      "Epoch 96/200\n",
      "\u001b[1m860/860\u001b[0m \u001b[32m━━━━━━━━━━━━━━━━━━━━\u001b[0m\u001b[37m\u001b[0m \u001b[1m3s\u001b[0m 3ms/step - accuracy: 0.6708 - loss: 0.7352 - val_accuracy: 0.6920 - val_loss: 0.7114\n",
      "Epoch 97/200\n",
      "\u001b[1m860/860\u001b[0m \u001b[32m━━━━━━━━━━━━━━━━━━━━\u001b[0m\u001b[37m\u001b[0m \u001b[1m3s\u001b[0m 3ms/step - accuracy: 0.6719 - loss: 0.7354 - val_accuracy: 0.6922 - val_loss: 0.7117\n",
      "Epoch 98/200\n",
      "\u001b[1m860/860\u001b[0m \u001b[32m━━━━━━━━━━━━━━━━━━━━\u001b[0m\u001b[37m\u001b[0m \u001b[1m4s\u001b[0m 4ms/step - accuracy: 0.6715 - loss: 0.7357 - val_accuracy: 0.6918 - val_loss: 0.7113\n",
      "Epoch 99/200\n",
      "\u001b[1m860/860\u001b[0m \u001b[32m━━━━━━━━━━━━━━━━━━━━\u001b[0m\u001b[37m\u001b[0m \u001b[1m4s\u001b[0m 4ms/step - accuracy: 0.6716 - loss: 0.7350 - val_accuracy: 0.6918 - val_loss: 0.7115\n",
      "Epoch 100/200\n",
      "\u001b[1m860/860\u001b[0m \u001b[32m━━━━━━━━━━━━━━━━━━━━\u001b[0m\u001b[37m\u001b[0m \u001b[1m5s\u001b[0m 3ms/step - accuracy: 0.6717 - loss: 0.7352 - val_accuracy: 0.6926 - val_loss: 0.7113\n",
      "Epoch 101/200\n",
      "\u001b[1m860/860\u001b[0m \u001b[32m━━━━━━━━━━━━━━━━━━━━\u001b[0m\u001b[37m\u001b[0m \u001b[1m8s\u001b[0m 7ms/step - accuracy: 0.6719 - loss: 0.7352 - val_accuracy: 0.6914 - val_loss: 0.7108\n",
      "Epoch 102/200\n",
      "\u001b[1m860/860\u001b[0m \u001b[32m━━━━━━━━━━━━━━━━━━━━\u001b[0m\u001b[37m\u001b[0m \u001b[1m8s\u001b[0m 4ms/step - accuracy: 0.6711 - loss: 0.7351 - val_accuracy: 0.6912 - val_loss: 0.7113\n",
      "Epoch 103/200\n",
      "\u001b[1m860/860\u001b[0m \u001b[32m━━━━━━━━━━━━━━━━━━━━\u001b[0m\u001b[37m\u001b[0m \u001b[1m5s\u001b[0m 4ms/step - accuracy: 0.6715 - loss: 0.7351 - val_accuracy: 0.6920 - val_loss: 0.7110\n",
      "Epoch 104/200\n",
      "\u001b[1m860/860\u001b[0m \u001b[32m━━━━━━━━━━━━━━━━━━━━\u001b[0m\u001b[37m\u001b[0m \u001b[1m4s\u001b[0m 3ms/step - accuracy: 0.6716 - loss: 0.7350 - val_accuracy: 0.6916 - val_loss: 0.7113\n",
      "Epoch 105/200\n",
      "\u001b[1m860/860\u001b[0m \u001b[32m━━━━━━━━━━━━━━━━━━━━\u001b[0m\u001b[37m\u001b[0m \u001b[1m5s\u001b[0m 5ms/step - accuracy: 0.6716 - loss: 0.7350 - val_accuracy: 0.6912 - val_loss: 0.7112\n",
      "Epoch 106/200\n",
      "\u001b[1m860/860\u001b[0m \u001b[32m━━━━━━━━━━━━━━━━━━━━\u001b[0m\u001b[37m\u001b[0m \u001b[1m4s\u001b[0m 4ms/step - accuracy: 0.6716 - loss: 0.7351 - val_accuracy: 0.6926 - val_loss: 0.7113\n",
      "Epoch 107/200\n",
      "\u001b[1m860/860\u001b[0m \u001b[32m━━━━━━━━━━━━━━━━━━━━\u001b[0m\u001b[37m\u001b[0m \u001b[1m3s\u001b[0m 3ms/step - accuracy: 0.6716 - loss: 0.7351 - val_accuracy: 0.6908 - val_loss: 0.7110\n",
      "Epoch 108/200\n",
      "\u001b[1m860/860\u001b[0m \u001b[32m━━━━━━━━━━━━━━━━━━━━\u001b[0m\u001b[37m\u001b[0m \u001b[1m6s\u001b[0m 4ms/step - accuracy: 0.6716 - loss: 0.7351 - val_accuracy: 0.6904 - val_loss: 0.7110\n",
      "Epoch 109/200\n",
      "\u001b[1m860/860\u001b[0m \u001b[32m━━━━━━━━━━━━━━━━━━━━\u001b[0m\u001b[37m\u001b[0m \u001b[1m4s\u001b[0m 3ms/step - accuracy: 0.6724 - loss: 0.7351 - val_accuracy: 0.6902 - val_loss: 0.7111\n",
      "Epoch 110/200\n",
      "\u001b[1m860/860\u001b[0m \u001b[32m━━━━━━━━━━━━━━━━━━━━\u001b[0m\u001b[37m\u001b[0m \u001b[1m3s\u001b[0m 3ms/step - accuracy: 0.6717 - loss: 0.7352 - val_accuracy: 0.6895 - val_loss: 0.7111\n",
      "Epoch 111/200\n",
      "\u001b[1m860/860\u001b[0m \u001b[32m━━━━━━━━━━━━━━━━━━━━\u001b[0m\u001b[37m\u001b[0m \u001b[1m3s\u001b[0m 3ms/step - accuracy: 0.6721 - loss: 0.7352 - val_accuracy: 0.6926 - val_loss: 0.7110\n",
      "Epoch 112/200\n",
      "\u001b[1m860/860\u001b[0m \u001b[32m━━━━━━━━━━━━━━━━━━━━\u001b[0m\u001b[37m\u001b[0m \u001b[1m5s\u001b[0m 3ms/step - accuracy: 0.6719 - loss: 0.7350 - val_accuracy: 0.6910 - val_loss: 0.7107\n",
      "Epoch 113/200\n",
      "\u001b[1m860/860\u001b[0m \u001b[32m━━━━━━━━━━━━━━━━━━━━\u001b[0m\u001b[37m\u001b[0m \u001b[1m5s\u001b[0m 3ms/step - accuracy: 0.6717 - loss: 0.7351 - val_accuracy: 0.6920 - val_loss: 0.7105\n",
      "Epoch 114/200\n",
      "\u001b[1m860/860\u001b[0m \u001b[32m━━━━━━━━━━━━━━━━━━━━\u001b[0m\u001b[37m\u001b[0m \u001b[1m3s\u001b[0m 4ms/step - accuracy: 0.6720 - loss: 0.7351 - val_accuracy: 0.6908 - val_loss: 0.7104\n",
      "Epoch 115/200\n",
      "\u001b[1m860/860\u001b[0m \u001b[32m━━━━━━━━━━━━━━━━━━━━\u001b[0m\u001b[37m\u001b[0m \u001b[1m3s\u001b[0m 4ms/step - accuracy: 0.6726 - loss: 0.7351 - val_accuracy: 0.6918 - val_loss: 0.7101\n",
      "Epoch 116/200\n",
      "\u001b[1m860/860\u001b[0m \u001b[32m━━━━━━━━━━━━━━━━━━━━\u001b[0m\u001b[37m\u001b[0m \u001b[1m4s\u001b[0m 3ms/step - accuracy: 0.6721 - loss: 0.7351 - val_accuracy: 0.6891 - val_loss: 0.7102\n",
      "Epoch 117/200\n",
      "\u001b[1m860/860\u001b[0m \u001b[32m━━━━━━━━━━━━━━━━━━━━\u001b[0m\u001b[37m\u001b[0m \u001b[1m2s\u001b[0m 3ms/step - accuracy: 0.6731 - loss: 0.7349 - val_accuracy: 0.6897 - val_loss: 0.7102\n",
      "Epoch 118/200\n",
      "\u001b[1m860/860\u001b[0m \u001b[32m━━━━━━━━━━━━━━━━━━━━\u001b[0m\u001b[37m\u001b[0m \u001b[1m3s\u001b[0m 3ms/step - accuracy: 0.6724 - loss: 0.7349 - val_accuracy: 0.6891 - val_loss: 0.7103\n",
      "Epoch 119/200\n",
      "\u001b[1m860/860\u001b[0m \u001b[32m━━━━━━━━━━━━━━━━━━━━\u001b[0m\u001b[37m\u001b[0m \u001b[1m5s\u001b[0m 3ms/step - accuracy: 0.6714 - loss: 0.7352 - val_accuracy: 0.6891 - val_loss: 0.7103\n",
      "Epoch 120/200\n",
      "\u001b[1m860/860\u001b[0m \u001b[32m━━━━━━━━━━━━━━━━━━━━\u001b[0m\u001b[37m\u001b[0m \u001b[1m3s\u001b[0m 3ms/step - accuracy: 0.6719 - loss: 0.7350 - val_accuracy: 0.6893 - val_loss: 0.7102\n",
      "Epoch 121/200\n",
      "\u001b[1m860/860\u001b[0m \u001b[32m━━━━━━━━━━━━━━━━━━━━\u001b[0m\u001b[37m\u001b[0m \u001b[1m3s\u001b[0m 3ms/step - accuracy: 0.6717 - loss: 0.7351 - val_accuracy: 0.6897 - val_loss: 0.7104\n",
      "Epoch 122/200\n",
      "\u001b[1m860/860\u001b[0m \u001b[32m━━━━━━━━━━━━━━━━━━━━\u001b[0m\u001b[37m\u001b[0m \u001b[1m5s\u001b[0m 3ms/step - accuracy: 0.6715 - loss: 0.7350 - val_accuracy: 0.6897 - val_loss: 0.7107\n",
      "Epoch 123/200\n",
      "\u001b[1m860/860\u001b[0m \u001b[32m━━━━━━━━━━━━━━━━━━━━\u001b[0m\u001b[37m\u001b[0m \u001b[1m5s\u001b[0m 4ms/step - accuracy: 0.6716 - loss: 0.7351 - val_accuracy: 0.6899 - val_loss: 0.7105\n",
      "Epoch 124/200\n",
      "\u001b[1m860/860\u001b[0m \u001b[32m━━━━━━━━━━━━━━━━━━━━\u001b[0m\u001b[37m\u001b[0m \u001b[1m3s\u001b[0m 3ms/step - accuracy: 0.6724 - loss: 0.7350 - val_accuracy: 0.6895 - val_loss: 0.7101\n",
      "Epoch 125/200\n",
      "\u001b[1m860/860\u001b[0m \u001b[32m━━━━━━━━━━━━━━━━━━━━\u001b[0m\u001b[37m\u001b[0m \u001b[1m4s\u001b[0m 4ms/step - accuracy: 0.6719 - loss: 0.7350 - val_accuracy: 0.6897 - val_loss: 0.7105\n",
      "Epoch 126/200\n",
      "\u001b[1m860/860\u001b[0m \u001b[32m━━━━━━━━━━━━━━━━━━━━\u001b[0m\u001b[37m\u001b[0m \u001b[1m3s\u001b[0m 3ms/step - accuracy: 0.6723 - loss: 0.7351 - val_accuracy: 0.6906 - val_loss: 0.7103\n",
      "Epoch 127/200\n",
      "\u001b[1m860/860\u001b[0m \u001b[32m━━━━━━━━━━━━━━━━━━━━\u001b[0m\u001b[37m\u001b[0m \u001b[1m3s\u001b[0m 3ms/step - accuracy: 0.6717 - loss: 0.7349 - val_accuracy: 0.6912 - val_loss: 0.7100\n",
      "Epoch 128/200\n",
      "\u001b[1m860/860\u001b[0m \u001b[32m━━━━━━━━━━━━━━━━━━━━\u001b[0m\u001b[37m\u001b[0m \u001b[1m3s\u001b[0m 3ms/step - accuracy: 0.6714 - loss: 0.7351 - val_accuracy: 0.6912 - val_loss: 0.7102\n",
      "Epoch 129/200\n",
      "\u001b[1m860/860\u001b[0m \u001b[32m━━━━━━━━━━━━━━━━━━━━\u001b[0m\u001b[37m\u001b[0m \u001b[1m5s\u001b[0m 3ms/step - accuracy: 0.6721 - loss: 0.7351 - val_accuracy: 0.6916 - val_loss: 0.7102\n",
      "Epoch 130/200\n",
      "\u001b[1m860/860\u001b[0m \u001b[32m━━━━━━━━━━━━━━━━━━━━\u001b[0m\u001b[37m\u001b[0m \u001b[1m3s\u001b[0m 3ms/step - accuracy: 0.6718 - loss: 0.7350 - val_accuracy: 0.6893 - val_loss: 0.7103\n",
      "Epoch 131/200\n",
      "\u001b[1m860/860\u001b[0m \u001b[32m━━━━━━━━━━━━━━━━━━━━\u001b[0m\u001b[37m\u001b[0m \u001b[1m3s\u001b[0m 3ms/step - accuracy: 0.6716 - loss: 0.7351 - val_accuracy: 0.6902 - val_loss: 0.7103\n",
      "Epoch 132/200\n",
      "\u001b[1m860/860\u001b[0m \u001b[32m━━━━━━━━━━━━━━━━━━━━\u001b[0m\u001b[37m\u001b[0m \u001b[1m6s\u001b[0m 4ms/step - accuracy: 0.6722 - loss: 0.7349 - val_accuracy: 0.6887 - val_loss: 0.7100\n",
      "Epoch 133/200\n",
      "\u001b[1m860/860\u001b[0m \u001b[32m━━━━━━━━━━━━━━━━━━━━\u001b[0m\u001b[37m\u001b[0m \u001b[1m5s\u001b[0m 3ms/step - accuracy: 0.6717 - loss: 0.7351 - val_accuracy: 0.6891 - val_loss: 0.7105\n",
      "Epoch 134/200\n",
      "\u001b[1m860/860\u001b[0m \u001b[32m━━━━━━━━━━━━━━━━━━━━\u001b[0m\u001b[37m\u001b[0m \u001b[1m3s\u001b[0m 3ms/step - accuracy: 0.6718 - loss: 0.7351 - val_accuracy: 0.6906 - val_loss: 0.7101\n",
      "Epoch 135/200\n",
      "\u001b[1m860/860\u001b[0m \u001b[32m━━━━━━━━━━━━━━━━━━━━\u001b[0m\u001b[37m\u001b[0m \u001b[1m3s\u001b[0m 4ms/step - accuracy: 0.6721 - loss: 0.7350 - val_accuracy: 0.6904 - val_loss: 0.7103\n",
      "Epoch 136/200\n",
      "\u001b[1m860/860\u001b[0m \u001b[32m━━━━━━━━━━━━━━━━━━━━\u001b[0m\u001b[37m\u001b[0m \u001b[1m3s\u001b[0m 3ms/step - accuracy: 0.6727 - loss: 0.7349 - val_accuracy: 0.6914 - val_loss: 0.7104\n",
      "Epoch 137/200\n",
      "\u001b[1m860/860\u001b[0m \u001b[32m━━━━━━━━━━━━━━━━━━━━\u001b[0m\u001b[37m\u001b[0m \u001b[1m5s\u001b[0m 3ms/step - accuracy: 0.6717 - loss: 0.7351 - val_accuracy: 0.6910 - val_loss: 0.7102\n",
      "Epoch 138/200\n",
      "\u001b[1m860/860\u001b[0m \u001b[32m━━━━━━━━━━━━━━━━━━━━\u001b[0m\u001b[37m\u001b[0m \u001b[1m3s\u001b[0m 4ms/step - accuracy: 0.6724 - loss: 0.7350 - val_accuracy: 0.6908 - val_loss: 0.7100\n",
      "Epoch 139/200\n",
      "\u001b[1m860/860\u001b[0m \u001b[32m━━━━━━━━━━━━━━━━━━━━\u001b[0m\u001b[37m\u001b[0m \u001b[1m4s\u001b[0m 5ms/step - accuracy: 0.6717 - loss: 0.7351 - val_accuracy: 0.6908 - val_loss: 0.7102\n",
      "Epoch 140/200\n",
      "\u001b[1m860/860\u001b[0m \u001b[32m━━━━━━━━━━━━━━━━━━━━\u001b[0m\u001b[37m\u001b[0m \u001b[1m2s\u001b[0m 3ms/step - accuracy: 0.6723 - loss: 0.7349 - val_accuracy: 0.6914 - val_loss: 0.7103\n",
      "Epoch 141/200\n",
      "\u001b[1m860/860\u001b[0m \u001b[32m━━━━━━━━━━━━━━━━━━━━\u001b[0m\u001b[37m\u001b[0m \u001b[1m3s\u001b[0m 3ms/step - accuracy: 0.6716 - loss: 0.7351 - val_accuracy: 0.6902 - val_loss: 0.7103\n",
      "Epoch 142/200\n",
      "\u001b[1m860/860\u001b[0m \u001b[32m━━━━━━━━━━━━━━━━━━━━\u001b[0m\u001b[37m\u001b[0m \u001b[1m3s\u001b[0m 3ms/step - accuracy: 0.6720 - loss: 0.7350 - val_accuracy: 0.6908 - val_loss: 0.7106\n",
      "Epoch 143/200\n",
      "\u001b[1m860/860\u001b[0m \u001b[32m━━━━━━━━━━━━━━━━━━━━\u001b[0m\u001b[37m\u001b[0m \u001b[1m4s\u001b[0m 4ms/step - accuracy: 0.6717 - loss: 0.7353 - val_accuracy: 0.6912 - val_loss: 0.7101\n",
      "Epoch 144/200\n",
      "\u001b[1m860/860\u001b[0m \u001b[32m━━━━━━━━━━━━━━━━━━━━\u001b[0m\u001b[37m\u001b[0m \u001b[1m3s\u001b[0m 4ms/step - accuracy: 0.6715 - loss: 0.7349 - val_accuracy: 0.6908 - val_loss: 0.7101\n",
      "Epoch 145/200\n",
      "\u001b[1m860/860\u001b[0m \u001b[32m━━━━━━━━━━━━━━━━━━━━\u001b[0m\u001b[37m\u001b[0m \u001b[1m4s\u001b[0m 3ms/step - accuracy: 0.6717 - loss: 0.7350 - val_accuracy: 0.6912 - val_loss: 0.7100\n",
      "Epoch 146/200\n",
      "\u001b[1m860/860\u001b[0m \u001b[32m━━━━━━━━━━━━━━━━━━━━\u001b[0m\u001b[37m\u001b[0m \u001b[1m3s\u001b[0m 3ms/step - accuracy: 0.6711 - loss: 0.7351 - val_accuracy: 0.6910 - val_loss: 0.7101\n",
      "Epoch 147/200\n",
      "\u001b[1m860/860\u001b[0m \u001b[32m━━━━━━━━━━━━━━━━━━━━\u001b[0m\u001b[37m\u001b[0m \u001b[1m4s\u001b[0m 5ms/step - accuracy: 0.6720 - loss: 0.7350 - val_accuracy: 0.6908 - val_loss: 0.7098\n",
      "Epoch 148/200\n",
      "\u001b[1m860/860\u001b[0m \u001b[32m━━━━━━━━━━━━━━━━━━━━\u001b[0m\u001b[37m\u001b[0m \u001b[1m3s\u001b[0m 3ms/step - accuracy: 0.6717 - loss: 0.7349 - val_accuracy: 0.6899 - val_loss: 0.7101\n",
      "Epoch 149/200\n",
      "\u001b[1m860/860\u001b[0m \u001b[32m━━━━━━━━━━━━━━━━━━━━\u001b[0m\u001b[37m\u001b[0m \u001b[1m2s\u001b[0m 3ms/step - accuracy: 0.6720 - loss: 0.7352 - val_accuracy: 0.6902 - val_loss: 0.7098\n",
      "Epoch 150/200\n",
      "\u001b[1m860/860\u001b[0m \u001b[32m━━━━━━━━━━━━━━━━━━━━\u001b[0m\u001b[37m\u001b[0m \u001b[1m3s\u001b[0m 3ms/step - accuracy: 0.6719 - loss: 0.7352 - val_accuracy: 0.6902 - val_loss: 0.7105\n",
      "Epoch 151/200\n",
      "\u001b[1m860/860\u001b[0m \u001b[32m━━━━━━━━━━━━━━━━━━━━\u001b[0m\u001b[37m\u001b[0m \u001b[1m5s\u001b[0m 3ms/step - accuracy: 0.6720 - loss: 0.7351 - val_accuracy: 0.6902 - val_loss: 0.7096\n",
      "Epoch 152/200\n",
      "\u001b[1m860/860\u001b[0m \u001b[32m━━━━━━━━━━━━━━━━━━━━\u001b[0m\u001b[37m\u001b[0m \u001b[1m3s\u001b[0m 3ms/step - accuracy: 0.6716 - loss: 0.7351 - val_accuracy: 0.6883 - val_loss: 0.7102\n",
      "Epoch 153/200\n",
      "\u001b[1m860/860\u001b[0m \u001b[32m━━━━━━━━━━━━━━━━━━━━\u001b[0m\u001b[37m\u001b[0m \u001b[1m5s\u001b[0m 3ms/step - accuracy: 0.6717 - loss: 0.7352 - val_accuracy: 0.6897 - val_loss: 0.7102\n",
      "Epoch 154/200\n",
      "\u001b[1m860/860\u001b[0m \u001b[32m━━━━━━━━━━━━━━━━━━━━\u001b[0m\u001b[37m\u001b[0m \u001b[1m4s\u001b[0m 4ms/step - accuracy: 0.6715 - loss: 0.7351 - val_accuracy: 0.6883 - val_loss: 0.7100\n",
      "Epoch 155/200\n",
      "\u001b[1m860/860\u001b[0m \u001b[32m━━━━━━━━━━━━━━━━━━━━\u001b[0m\u001b[37m\u001b[0m \u001b[1m4s\u001b[0m 3ms/step - accuracy: 0.6716 - loss: 0.7350 - val_accuracy: 0.6904 - val_loss: 0.7104\n",
      "Epoch 156/200\n",
      "\u001b[1m860/860\u001b[0m \u001b[32m━━━━━━━━━━━━━━━━━━━━\u001b[0m\u001b[37m\u001b[0m \u001b[1m3s\u001b[0m 3ms/step - accuracy: 0.6718 - loss: 0.7347 - val_accuracy: 0.6904 - val_loss: 0.7105\n",
      "Epoch 157/200\n",
      "\u001b[1m860/860\u001b[0m \u001b[32m━━━━━━━━━━━━━━━━━━━━\u001b[0m\u001b[37m\u001b[0m \u001b[1m7s\u001b[0m 5ms/step - accuracy: 0.6714 - loss: 0.7348 - val_accuracy: 0.6904 - val_loss: 0.7102\n",
      "Epoch 158/200\n",
      "\u001b[1m860/860\u001b[0m \u001b[32m━━━━━━━━━━━━━━━━━━━━\u001b[0m\u001b[37m\u001b[0m \u001b[1m4s\u001b[0m 3ms/step - accuracy: 0.6714 - loss: 0.7350 - val_accuracy: 0.6891 - val_loss: 0.7099\n",
      "Epoch 159/200\n",
      "\u001b[1m860/860\u001b[0m \u001b[32m━━━━━━━━━━━━━━━━━━━━\u001b[0m\u001b[37m\u001b[0m \u001b[1m3s\u001b[0m 3ms/step - accuracy: 0.6718 - loss: 0.7349 - val_accuracy: 0.6902 - val_loss: 0.7104\n",
      "Epoch 160/200\n",
      "\u001b[1m860/860\u001b[0m \u001b[32m━━━━━━━━━━━━━━━━━━━━\u001b[0m\u001b[37m\u001b[0m \u001b[1m6s\u001b[0m 4ms/step - accuracy: 0.6720 - loss: 0.7349 - val_accuracy: 0.6920 - val_loss: 0.7105\n",
      "Epoch 161/200\n",
      "\u001b[1m860/860\u001b[0m \u001b[32m━━━━━━━━━━━━━━━━━━━━\u001b[0m\u001b[37m\u001b[0m \u001b[1m4s\u001b[0m 3ms/step - accuracy: 0.6721 - loss: 0.7349 - val_accuracy: 0.6904 - val_loss: 0.7102\n",
      "Epoch 162/200\n",
      "\u001b[1m860/860\u001b[0m \u001b[32m━━━━━━━━━━━━━━━━━━━━\u001b[0m\u001b[37m\u001b[0m \u001b[1m5s\u001b[0m 3ms/step - accuracy: 0.6718 - loss: 0.7348 - val_accuracy: 0.6897 - val_loss: 0.7101\n",
      "Epoch 163/200\n",
      "\u001b[1m860/860\u001b[0m \u001b[32m━━━━━━━━━━━━━━━━━━━━\u001b[0m\u001b[37m\u001b[0m \u001b[1m5s\u001b[0m 3ms/step - accuracy: 0.6718 - loss: 0.7348 - val_accuracy: 0.6912 - val_loss: 0.7106\n",
      "Epoch 164/200\n",
      "\u001b[1m860/860\u001b[0m \u001b[32m━━━━━━━━━━━━━━━━━━━━\u001b[0m\u001b[37m\u001b[0m \u001b[1m3s\u001b[0m 3ms/step - accuracy: 0.6709 - loss: 0.7349 - val_accuracy: 0.6926 - val_loss: 0.7106\n",
      "Epoch 165/200\n",
      "\u001b[1m860/860\u001b[0m \u001b[32m━━━━━━━━━━━━━━━━━━━━\u001b[0m\u001b[37m\u001b[0m \u001b[1m3s\u001b[0m 3ms/step - accuracy: 0.6717 - loss: 0.7347 - val_accuracy: 0.6904 - val_loss: 0.7108\n",
      "Epoch 166/200\n",
      "\u001b[1m860/860\u001b[0m \u001b[32m━━━━━━━━━━━━━━━━━━━━\u001b[0m\u001b[37m\u001b[0m \u001b[1m4s\u001b[0m 4ms/step - accuracy: 0.6716 - loss: 0.7349 - val_accuracy: 0.6895 - val_loss: 0.7104\n",
      "Epoch 167/200\n",
      "\u001b[1m860/860\u001b[0m \u001b[32m━━━━━━━━━━━━━━━━━━━━\u001b[0m\u001b[37m\u001b[0m \u001b[1m3s\u001b[0m 3ms/step - accuracy: 0.6721 - loss: 0.7349 - val_accuracy: 0.6908 - val_loss: 0.7104\n",
      "Epoch 168/200\n",
      "\u001b[1m860/860\u001b[0m \u001b[32m━━━━━━━━━━━━━━━━━━━━\u001b[0m\u001b[37m\u001b[0m \u001b[1m5s\u001b[0m 3ms/step - accuracy: 0.6719 - loss: 0.7347 - val_accuracy: 0.6906 - val_loss: 0.7108\n",
      "Epoch 169/200\n",
      "\u001b[1m860/860\u001b[0m \u001b[32m━━━━━━━━━━━━━━━━━━━━\u001b[0m\u001b[37m\u001b[0m \u001b[1m3s\u001b[0m 4ms/step - accuracy: 0.6721 - loss: 0.7349 - val_accuracy: 0.6908 - val_loss: 0.7107\n",
      "Epoch 170/200\n",
      "\u001b[1m860/860\u001b[0m \u001b[32m━━━━━━━━━━━━━━━━━━━━\u001b[0m\u001b[37m\u001b[0m \u001b[1m5s\u001b[0m 3ms/step - accuracy: 0.6716 - loss: 0.7348 - val_accuracy: 0.6897 - val_loss: 0.7107\n",
      "Epoch 171/200\n",
      "\u001b[1m860/860\u001b[0m \u001b[32m━━━━━━━━━━━━━━━━━━━━\u001b[0m\u001b[37m\u001b[0m \u001b[1m3s\u001b[0m 3ms/step - accuracy: 0.6709 - loss: 0.7349 - val_accuracy: 0.6912 - val_loss: 0.7111\n",
      "Epoch 172/200\n",
      "\u001b[1m860/860\u001b[0m \u001b[32m━━━━━━━━━━━━━━━━━━━━\u001b[0m\u001b[37m\u001b[0m \u001b[1m5s\u001b[0m 4ms/step - accuracy: 0.6720 - loss: 0.7350 - val_accuracy: 0.6906 - val_loss: 0.7105\n",
      "Epoch 173/200\n",
      "\u001b[1m860/860\u001b[0m \u001b[32m━━━━━━━━━━━━━━━━━━━━\u001b[0m\u001b[37m\u001b[0m \u001b[1m4s\u001b[0m 3ms/step - accuracy: 0.6727 - loss: 0.7346 - val_accuracy: 0.6891 - val_loss: 0.7109\n",
      "Epoch 174/200\n",
      "\u001b[1m860/860\u001b[0m \u001b[32m━━━━━━━━━━━━━━━━━━━━\u001b[0m\u001b[37m\u001b[0m \u001b[1m3s\u001b[0m 3ms/step - accuracy: 0.6715 - loss: 0.7349 - val_accuracy: 0.6914 - val_loss: 0.7107\n",
      "Epoch 175/200\n",
      "\u001b[1m860/860\u001b[0m \u001b[32m━━━━━━━━━━━━━━━━━━━━\u001b[0m\u001b[37m\u001b[0m \u001b[1m3s\u001b[0m 3ms/step - accuracy: 0.6710 - loss: 0.7347 - val_accuracy: 0.6899 - val_loss: 0.7101\n",
      "Epoch 176/200\n",
      "\u001b[1m860/860\u001b[0m \u001b[32m━━━━━━━━━━━━━━━━━━━━\u001b[0m\u001b[37m\u001b[0m \u001b[1m5s\u001b[0m 3ms/step - accuracy: 0.6725 - loss: 0.7348 - val_accuracy: 0.6902 - val_loss: 0.7106\n",
      "Epoch 177/200\n",
      "\u001b[1m860/860\u001b[0m \u001b[32m━━━━━━━━━━━━━━━━━━━━\u001b[0m\u001b[37m\u001b[0m \u001b[1m3s\u001b[0m 3ms/step - accuracy: 0.6721 - loss: 0.7348 - val_accuracy: 0.6889 - val_loss: 0.7109\n",
      "Epoch 178/200\n",
      "\u001b[1m860/860\u001b[0m \u001b[32m━━━━━━━━━━━━━━━━━━━━\u001b[0m\u001b[37m\u001b[0m \u001b[1m5s\u001b[0m 3ms/step - accuracy: 0.6719 - loss: 0.7349 - val_accuracy: 0.6893 - val_loss: 0.7108\n",
      "Epoch 179/200\n",
      "\u001b[1m860/860\u001b[0m \u001b[32m━━━━━━━━━━━━━━━━━━━━\u001b[0m\u001b[37m\u001b[0m \u001b[1m4s\u001b[0m 5ms/step - accuracy: 0.6721 - loss: 0.7349 - val_accuracy: 0.6889 - val_loss: 0.7103\n",
      "Epoch 180/200\n",
      "\u001b[1m860/860\u001b[0m \u001b[32m━━━━━━━━━━━━━━━━━━━━\u001b[0m\u001b[37m\u001b[0m \u001b[1m3s\u001b[0m 3ms/step - accuracy: 0.6721 - loss: 0.7348 - val_accuracy: 0.6908 - val_loss: 0.7103\n",
      "Epoch 181/200\n",
      "\u001b[1m860/860\u001b[0m \u001b[32m━━━━━━━━━━━━━━━━━━━━\u001b[0m\u001b[37m\u001b[0m \u001b[1m3s\u001b[0m 3ms/step - accuracy: 0.6712 - loss: 0.7349 - val_accuracy: 0.6916 - val_loss: 0.7108\n",
      "Epoch 182/200\n",
      "\u001b[1m860/860\u001b[0m \u001b[32m━━━━━━━━━━━━━━━━━━━━\u001b[0m\u001b[37m\u001b[0m \u001b[1m3s\u001b[0m 3ms/step - accuracy: 0.6716 - loss: 0.7350 - val_accuracy: 0.6912 - val_loss: 0.7105\n",
      "Epoch 183/200\n",
      "\u001b[1m860/860\u001b[0m \u001b[32m━━━━━━━━━━━━━━━━━━━━\u001b[0m\u001b[37m\u001b[0m \u001b[1m5s\u001b[0m 3ms/step - accuracy: 0.6722 - loss: 0.7348 - val_accuracy: 0.6895 - val_loss: 0.7109\n",
      "Epoch 184/200\n",
      "\u001b[1m860/860\u001b[0m \u001b[32m━━━━━━━━━━━━━━━━━━━━\u001b[0m\u001b[37m\u001b[0m \u001b[1m5s\u001b[0m 3ms/step - accuracy: 0.6719 - loss: 0.7349 - val_accuracy: 0.6916 - val_loss: 0.7110\n",
      "Epoch 185/200\n",
      "\u001b[1m860/860\u001b[0m \u001b[32m━━━━━━━━━━━━━━━━━━━━\u001b[0m\u001b[37m\u001b[0m \u001b[1m3s\u001b[0m 3ms/step - accuracy: 0.6715 - loss: 0.7350 - val_accuracy: 0.6899 - val_loss: 0.7109\n",
      "Epoch 186/200\n",
      "\u001b[1m860/860\u001b[0m \u001b[32m━━━━━━━━━━━━━━━━━━━━\u001b[0m\u001b[37m\u001b[0m \u001b[1m5s\u001b[0m 3ms/step - accuracy: 0.6707 - loss: 0.7349 - val_accuracy: 0.6908 - val_loss: 0.7108\n",
      "Epoch 187/200\n",
      "\u001b[1m860/860\u001b[0m \u001b[32m━━━━━━━━━━━━━━━━━━━━\u001b[0m\u001b[37m\u001b[0m \u001b[1m5s\u001b[0m 3ms/step - accuracy: 0.6720 - loss: 0.7349 - val_accuracy: 0.6902 - val_loss: 0.7104\n",
      "Epoch 188/200\n",
      "\u001b[1m860/860\u001b[0m \u001b[32m━━━━━━━━━━━━━━━━━━━━\u001b[0m\u001b[37m\u001b[0m \u001b[1m4s\u001b[0m 4ms/step - accuracy: 0.6719 - loss: 0.7349 - val_accuracy: 0.6904 - val_loss: 0.7104\n",
      "Epoch 189/200\n",
      "\u001b[1m860/860\u001b[0m \u001b[32m━━━━━━━━━━━━━━━━━━━━\u001b[0m\u001b[37m\u001b[0m \u001b[1m4s\u001b[0m 4ms/step - accuracy: 0.6718 - loss: 0.7350 - val_accuracy: 0.6902 - val_loss: 0.7104\n",
      "Epoch 190/200\n",
      "\u001b[1m860/860\u001b[0m \u001b[32m━━━━━━━━━━━━━━━━━━━━\u001b[0m\u001b[37m\u001b[0m \u001b[1m3s\u001b[0m 4ms/step - accuracy: 0.6716 - loss: 0.7348 - val_accuracy: 0.6910 - val_loss: 0.7103\n",
      "Epoch 191/200\n",
      "\u001b[1m860/860\u001b[0m \u001b[32m━━━━━━━━━━━━━━━━━━━━\u001b[0m\u001b[37m\u001b[0m \u001b[1m3s\u001b[0m 3ms/step - accuracy: 0.6716 - loss: 0.7348 - val_accuracy: 0.6910 - val_loss: 0.7102\n",
      "Epoch 192/200\n",
      "\u001b[1m860/860\u001b[0m \u001b[32m━━━━━━━━━━━━━━━━━━━━\u001b[0m\u001b[37m\u001b[0m \u001b[1m5s\u001b[0m 3ms/step - accuracy: 0.6714 - loss: 0.7352 - val_accuracy: 0.6906 - val_loss: 0.7122\n",
      "Epoch 193/200\n",
      "\u001b[1m860/860\u001b[0m \u001b[32m━━━━━━━━━━━━━━━━━━━━\u001b[0m\u001b[37m\u001b[0m \u001b[1m3s\u001b[0m 4ms/step - accuracy: 0.6722 - loss: 0.7348 - val_accuracy: 0.6899 - val_loss: 0.7103\n",
      "Epoch 194/200\n",
      "\u001b[1m860/860\u001b[0m \u001b[32m━━━━━━━━━━━━━━━━━━━━\u001b[0m\u001b[37m\u001b[0m \u001b[1m3s\u001b[0m 3ms/step - accuracy: 0.6722 - loss: 0.7348 - val_accuracy: 0.6889 - val_loss: 0.7105\n",
      "Epoch 195/200\n",
      "\u001b[1m860/860\u001b[0m \u001b[32m━━━━━━━━━━━━━━━━━━━━\u001b[0m\u001b[37m\u001b[0m \u001b[1m5s\u001b[0m 3ms/step - accuracy: 0.6714 - loss: 0.7349 - val_accuracy: 0.6897 - val_loss: 0.7103\n",
      "Epoch 196/200\n",
      "\u001b[1m860/860\u001b[0m \u001b[32m━━━━━━━━━━━━━━━━━━━━\u001b[0m\u001b[37m\u001b[0m \u001b[1m3s\u001b[0m 3ms/step - accuracy: 0.6722 - loss: 0.7351 - val_accuracy: 0.6918 - val_loss: 0.7107\n",
      "Epoch 197/200\n",
      "\u001b[1m860/860\u001b[0m \u001b[32m━━━━━━━━━━━━━━━━━━━━\u001b[0m\u001b[37m\u001b[0m \u001b[1m6s\u001b[0m 4ms/step - accuracy: 0.6722 - loss: 0.7350 - val_accuracy: 0.6906 - val_loss: 0.7104\n",
      "Epoch 198/200\n",
      "\u001b[1m860/860\u001b[0m \u001b[32m━━━━━━━━━━━━━━━━━━━━\u001b[0m\u001b[37m\u001b[0m \u001b[1m5s\u001b[0m 3ms/step - accuracy: 0.6719 - loss: 0.7346 - val_accuracy: 0.6908 - val_loss: 0.7104\n",
      "Epoch 199/200\n",
      "\u001b[1m860/860\u001b[0m \u001b[32m━━━━━━━━━━━━━━━━━━━━\u001b[0m\u001b[37m\u001b[0m \u001b[1m5s\u001b[0m 3ms/step - accuracy: 0.6723 - loss: 0.7348 - val_accuracy: 0.6908 - val_loss: 0.7105\n",
      "Epoch 200/200\n",
      "\u001b[1m860/860\u001b[0m \u001b[32m━━━━━━━━━━━━━━━━━━━━\u001b[0m\u001b[37m\u001b[0m \u001b[1m6s\u001b[0m 4ms/step - accuracy: 0.6722 - loss: 0.7351 - val_accuracy: 0.6891 - val_loss: 0.7102\n"
     ]
    }
   ],
   "source": [
    "history = model.fit(X_train, y_train, batch_size=32, epochs=200, validation_split=0.15)"
   ]
  },
  {
   "cell_type": "markdown",
   "id": "ISq0kK45sd_g",
   "metadata": {
    "id": "ISq0kK45sd_g"
   },
   "source": [
    "---\n",
    "## `ii` Early Stopped Model"
   ]
  },
  {
   "cell_type": "code",
   "execution_count": 104,
   "id": "nuWn-bXaikV4",
   "metadata": {
    "colab": {
     "base_uri": "https://localhost:8080/",
     "height": 193
    },
    "id": "nuWn-bXaikV4",
    "outputId": "92bdc0d9-1c0f-4e93-8c8a-0d8998fb75df"
   },
   "outputs": [
    {
     "data": {
      "text/html": [
       "<pre style=\"white-space:pre;overflow-x:auto;line-height:normal;font-family:Menlo,'DejaVu Sans Mono',consolas,'Courier New',monospace\"><span style=\"font-weight: bold\">Model: \"sequential_10\"</span>\n",
       "</pre>\n"
      ],
      "text/plain": [
       "\u001b[1mModel: \"sequential_10\"\u001b[0m\n"
      ]
     },
     "metadata": {},
     "output_type": "display_data"
    },
    {
     "data": {
      "text/html": [
       "<pre style=\"white-space:pre;overflow-x:auto;line-height:normal;font-family:Menlo,'DejaVu Sans Mono',consolas,'Courier New',monospace\">┏━━━━━━━━━━━━━━━━━━━━━━━━━━━━━━━━━━━━━━┳━━━━━━━━━━━━━━━━━━━━━━━━━━━━━┳━━━━━━━━━━━━━━━━━┓\n",
       "┃<span style=\"font-weight: bold\"> Layer (type)                         </span>┃<span style=\"font-weight: bold\"> Output Shape                </span>┃<span style=\"font-weight: bold\">         Param # </span>┃\n",
       "┡━━━━━━━━━━━━━━━━━━━━━━━━━━━━━━━━━━━━━━╇━━━━━━━━━━━━━━━━━━━━━━━━━━━━━╇━━━━━━━━━━━━━━━━━┩\n",
       "│ dense_20 (<span style=\"color: #0087ff; text-decoration-color: #0087ff\">Dense</span>)                     │ (<span style=\"color: #00d7ff; text-decoration-color: #00d7ff\">None</span>, <span style=\"color: #00af00; text-decoration-color: #00af00\">32</span>)                  │             <span style=\"color: #00af00; text-decoration-color: #00af00\">256</span> │\n",
       "├──────────────────────────────────────┼─────────────────────────────┼─────────────────┤\n",
       "│ dense_21 (<span style=\"color: #0087ff; text-decoration-color: #0087ff\">Dense</span>)                     │ (<span style=\"color: #00d7ff; text-decoration-color: #00d7ff\">None</span>, <span style=\"color: #00af00; text-decoration-color: #00af00\">3</span>)                   │              <span style=\"color: #00af00; text-decoration-color: #00af00\">99</span> │\n",
       "└──────────────────────────────────────┴─────────────────────────────┴─────────────────┘\n",
       "</pre>\n"
      ],
      "text/plain": [
       "┏━━━━━━━━━━━━━━━━━━━━━━━━━━━━━━━━━━━━━━┳━━━━━━━━━━━━━━━━━━━━━━━━━━━━━┳━━━━━━━━━━━━━━━━━┓\n",
       "┃\u001b[1m \u001b[0m\u001b[1mLayer (type)                        \u001b[0m\u001b[1m \u001b[0m┃\u001b[1m \u001b[0m\u001b[1mOutput Shape               \u001b[0m\u001b[1m \u001b[0m┃\u001b[1m \u001b[0m\u001b[1m        Param #\u001b[0m\u001b[1m \u001b[0m┃\n",
       "┡━━━━━━━━━━━━━━━━━━━━━━━━━━━━━━━━━━━━━━╇━━━━━━━━━━━━━━━━━━━━━━━━━━━━━╇━━━━━━━━━━━━━━━━━┩\n",
       "│ dense_20 (\u001b[38;5;33mDense\u001b[0m)                     │ (\u001b[38;5;45mNone\u001b[0m, \u001b[38;5;34m32\u001b[0m)                  │             \u001b[38;5;34m256\u001b[0m │\n",
       "├──────────────────────────────────────┼─────────────────────────────┼─────────────────┤\n",
       "│ dense_21 (\u001b[38;5;33mDense\u001b[0m)                     │ (\u001b[38;5;45mNone\u001b[0m, \u001b[38;5;34m3\u001b[0m)                   │              \u001b[38;5;34m99\u001b[0m │\n",
       "└──────────────────────────────────────┴─────────────────────────────┴─────────────────┘\n"
      ]
     },
     "metadata": {},
     "output_type": "display_data"
    },
    {
     "data": {
      "text/html": [
       "<pre style=\"white-space:pre;overflow-x:auto;line-height:normal;font-family:Menlo,'DejaVu Sans Mono',consolas,'Courier New',monospace\"><span style=\"font-weight: bold\"> Total params: </span><span style=\"color: #00af00; text-decoration-color: #00af00\">355</span> (1.39 KB)\n",
       "</pre>\n"
      ],
      "text/plain": [
       "\u001b[1m Total params: \u001b[0m\u001b[38;5;34m355\u001b[0m (1.39 KB)\n"
      ]
     },
     "metadata": {},
     "output_type": "display_data"
    },
    {
     "data": {
      "text/html": [
       "<pre style=\"white-space:pre;overflow-x:auto;line-height:normal;font-family:Menlo,'DejaVu Sans Mono',consolas,'Courier New',monospace\"><span style=\"font-weight: bold\"> Trainable params: </span><span style=\"color: #00af00; text-decoration-color: #00af00\">355</span> (1.39 KB)\n",
       "</pre>\n"
      ],
      "text/plain": [
       "\u001b[1m Trainable params: \u001b[0m\u001b[38;5;34m355\u001b[0m (1.39 KB)\n"
      ]
     },
     "metadata": {},
     "output_type": "display_data"
    },
    {
     "data": {
      "text/html": [
       "<pre style=\"white-space:pre;overflow-x:auto;line-height:normal;font-family:Menlo,'DejaVu Sans Mono',consolas,'Courier New',monospace\"><span style=\"font-weight: bold\"> Non-trainable params: </span><span style=\"color: #00af00; text-decoration-color: #00af00\">0</span> (0.00 B)\n",
       "</pre>\n"
      ],
      "text/plain": [
       "\u001b[1m Non-trainable params: \u001b[0m\u001b[38;5;34m0\u001b[0m (0.00 B)\n"
      ]
     },
     "metadata": {},
     "output_type": "display_data"
    }
   ],
   "source": [
    "Early_model = Sequential()\n",
    "Early_model.add(Dense(32, activation='relu', input_shape=(7,)))\n",
    "Early_model.add(Dense(3, activation='softmax'))\n",
    "Early_model.summary()"
   ]
  },
  {
   "cell_type": "code",
   "execution_count": 105,
   "id": "L7fjgXQWu-1d",
   "metadata": {
    "id": "L7fjgXQWu-1d"
   },
   "outputs": [],
   "source": [
    "Early_model.compile(keras.optimizers.Adam(0.01), loss='sparse_categorical_crossentropy', metrics=['accuracy'])"
   ]
  },
  {
   "cell_type": "code",
   "execution_count": 106,
   "id": "VquIIEVLvHsz",
   "metadata": {
    "id": "VquIIEVLvHsz"
   },
   "outputs": [],
   "source": [
    "early_stop = EarlyStopping(monitor='val_accuracy', patience=5, restore_best_weights=True)"
   ]
  },
  {
   "cell_type": "code",
   "execution_count": 107,
   "id": "qwI2MEHBvSfd",
   "metadata": {
    "colab": {
     "base_uri": "https://localhost:8080/"
    },
    "id": "qwI2MEHBvSfd",
    "outputId": "086d8b5e-2372-4fed-9645-fcb08265b527"
   },
   "outputs": [
    {
     "name": "stdout",
     "output_type": "stream",
     "text": [
      "Epoch 1/200\n",
      "\u001b[1m860/860\u001b[0m \u001b[32m━━━━━━━━━━━━━━━━━━━━\u001b[0m\u001b[37m\u001b[0m \u001b[1m7s\u001b[0m 7ms/step - accuracy: 0.6336 - loss: 0.7853 - val_accuracy: 0.6588 - val_loss: 0.7282\n",
      "Epoch 2/200\n",
      "\u001b[1m860/860\u001b[0m \u001b[32m━━━━━━━━━━━━━━━━━━━━\u001b[0m\u001b[37m\u001b[0m \u001b[1m3s\u001b[0m 3ms/step - accuracy: 0.6578 - loss: 0.7538 - val_accuracy: 0.6679 - val_loss: 0.7222\n",
      "Epoch 3/200\n",
      "\u001b[1m860/860\u001b[0m \u001b[32m━━━━━━━━━━━━━━━━━━━━\u001b[0m\u001b[37m\u001b[0m \u001b[1m3s\u001b[0m 3ms/step - accuracy: 0.6611 - loss: 0.7494 - val_accuracy: 0.6733 - val_loss: 0.7176\n",
      "Epoch 4/200\n",
      "\u001b[1m860/860\u001b[0m \u001b[32m━━━━━━━━━━━━━━━━━━━━\u001b[0m\u001b[37m\u001b[0m \u001b[1m3s\u001b[0m 3ms/step - accuracy: 0.6604 - loss: 0.7469 - val_accuracy: 0.6776 - val_loss: 0.7152\n",
      "Epoch 5/200\n",
      "\u001b[1m860/860\u001b[0m \u001b[32m━━━━━━━━━━━━━━━━━━━━\u001b[0m\u001b[37m\u001b[0m \u001b[1m4s\u001b[0m 5ms/step - accuracy: 0.6627 - loss: 0.7450 - val_accuracy: 0.6776 - val_loss: 0.7154\n",
      "Epoch 6/200\n",
      "\u001b[1m860/860\u001b[0m \u001b[32m━━━━━━━━━━━━━━━━━━━━\u001b[0m\u001b[37m\u001b[0m \u001b[1m3s\u001b[0m 3ms/step - accuracy: 0.6650 - loss: 0.7442 - val_accuracy: 0.6831 - val_loss: 0.7144\n",
      "Epoch 7/200\n",
      "\u001b[1m860/860\u001b[0m \u001b[32m━━━━━━━━━━━━━━━━━━━━\u001b[0m\u001b[37m\u001b[0m \u001b[1m5s\u001b[0m 3ms/step - accuracy: 0.6627 - loss: 0.7431 - val_accuracy: 0.6834 - val_loss: 0.7139\n",
      "Epoch 8/200\n",
      "\u001b[1m860/860\u001b[0m \u001b[32m━━━━━━━━━━━━━━━━━━━━\u001b[0m\u001b[37m\u001b[0m \u001b[1m3s\u001b[0m 4ms/step - accuracy: 0.6643 - loss: 0.7425 - val_accuracy: 0.6864 - val_loss: 0.7131\n",
      "Epoch 9/200\n",
      "\u001b[1m860/860\u001b[0m \u001b[32m━━━━━━━━━━━━━━━━━━━━\u001b[0m\u001b[37m\u001b[0m \u001b[1m4s\u001b[0m 3ms/step - accuracy: 0.6662 - loss: 0.7421 - val_accuracy: 0.6891 - val_loss: 0.7135\n",
      "Epoch 10/200\n",
      "\u001b[1m860/860\u001b[0m \u001b[32m━━━━━━━━━━━━━━━━━━━━\u001b[0m\u001b[37m\u001b[0m \u001b[1m2s\u001b[0m 3ms/step - accuracy: 0.6663 - loss: 0.7417 - val_accuracy: 0.6869 - val_loss: 0.7120\n",
      "Epoch 11/200\n",
      "\u001b[1m860/860\u001b[0m \u001b[32m━━━━━━━━━━━━━━━━━━━━\u001b[0m\u001b[37m\u001b[0m \u001b[1m3s\u001b[0m 3ms/step - accuracy: 0.6655 - loss: 0.7409 - val_accuracy: 0.6873 - val_loss: 0.7118\n",
      "Epoch 12/200\n",
      "\u001b[1m860/860\u001b[0m \u001b[32m━━━━━━━━━━━━━━━━━━━━\u001b[0m\u001b[37m\u001b[0m \u001b[1m4s\u001b[0m 4ms/step - accuracy: 0.6648 - loss: 0.7405 - val_accuracy: 0.6864 - val_loss: 0.7121\n",
      "Epoch 13/200\n",
      "\u001b[1m860/860\u001b[0m \u001b[32m━━━━━━━━━━━━━━━━━━━━\u001b[0m\u001b[37m\u001b[0m \u001b[1m4s\u001b[0m 3ms/step - accuracy: 0.6656 - loss: 0.7405 - val_accuracy: 0.6881 - val_loss: 0.7118\n",
      "Epoch 14/200\n",
      "\u001b[1m860/860\u001b[0m \u001b[32m━━━━━━━━━━━━━━━━━━━━\u001b[0m\u001b[37m\u001b[0m \u001b[1m3s\u001b[0m 3ms/step - accuracy: 0.6659 - loss: 0.7404 - val_accuracy: 0.6891 - val_loss: 0.7125\n",
      "Epoch 15/200\n",
      "\u001b[1m860/860\u001b[0m \u001b[32m━━━━━━━━━━━━━━━━━━━━\u001b[0m\u001b[37m\u001b[0m \u001b[1m6s\u001b[0m 4ms/step - accuracy: 0.6663 - loss: 0.7402 - val_accuracy: 0.6916 - val_loss: 0.7128\n",
      "Epoch 16/200\n",
      "\u001b[1m860/860\u001b[0m \u001b[32m━━━━━━━━━━━━━━━━━━━━\u001b[0m\u001b[37m\u001b[0m \u001b[1m4s\u001b[0m 3ms/step - accuracy: 0.6658 - loss: 0.7402 - val_accuracy: 0.6885 - val_loss: 0.7123\n",
      "Epoch 17/200\n",
      "\u001b[1m860/860\u001b[0m \u001b[32m━━━━━━━━━━━━━━━━━━━━\u001b[0m\u001b[37m\u001b[0m \u001b[1m3s\u001b[0m 3ms/step - accuracy: 0.6659 - loss: 0.7397 - val_accuracy: 0.6873 - val_loss: 0.7132\n",
      "Epoch 18/200\n",
      "\u001b[1m860/860\u001b[0m \u001b[32m━━━━━━━━━━━━━━━━━━━━\u001b[0m\u001b[37m\u001b[0m \u001b[1m3s\u001b[0m 3ms/step - accuracy: 0.6664 - loss: 0.7393 - val_accuracy: 0.6885 - val_loss: 0.7141\n",
      "Epoch 19/200\n",
      "\u001b[1m860/860\u001b[0m \u001b[32m━━━━━━━━━━━━━━━━━━━━\u001b[0m\u001b[37m\u001b[0m \u001b[1m4s\u001b[0m 4ms/step - accuracy: 0.6673 - loss: 0.7397 - val_accuracy: 0.6891 - val_loss: 0.7123\n",
      "Epoch 20/200\n",
      "\u001b[1m860/860\u001b[0m \u001b[32m━━━━━━━━━━━━━━━━━━━━\u001b[0m\u001b[37m\u001b[0m \u001b[1m4s\u001b[0m 3ms/step - accuracy: 0.6670 - loss: 0.7394 - val_accuracy: 0.6885 - val_loss: 0.7136\n",
      "Epoch 21/200\n",
      "\u001b[1m860/860\u001b[0m \u001b[32m━━━━━━━━━━━━━━━━━━━━\u001b[0m\u001b[37m\u001b[0m \u001b[1m3s\u001b[0m 3ms/step - accuracy: 0.6654 - loss: 0.7393 - val_accuracy: 0.6899 - val_loss: 0.7151\n",
      "Epoch 22/200\n",
      "\u001b[1m860/860\u001b[0m \u001b[32m━━━━━━━━━━━━━━━━━━━━\u001b[0m\u001b[37m\u001b[0m \u001b[1m3s\u001b[0m 3ms/step - accuracy: 0.6662 - loss: 0.7400 - val_accuracy: 0.6910 - val_loss: 0.7132\n",
      "Epoch 23/200\n",
      "\u001b[1m860/860\u001b[0m \u001b[32m━━━━━━━━━━━━━━━━━━━━\u001b[0m\u001b[37m\u001b[0m \u001b[1m5s\u001b[0m 3ms/step - accuracy: 0.6656 - loss: 0.7395 - val_accuracy: 0.6910 - val_loss: 0.7128\n",
      "Epoch 24/200\n",
      "\u001b[1m860/860\u001b[0m \u001b[32m━━━━━━━━━━━━━━━━━━━━\u001b[0m\u001b[37m\u001b[0m \u001b[1m3s\u001b[0m 3ms/step - accuracy: 0.6660 - loss: 0.7393 - val_accuracy: 0.6906 - val_loss: 0.7123\n",
      "Epoch 25/200\n",
      "\u001b[1m860/860\u001b[0m \u001b[32m━━━━━━━━━━━━━━━━━━━━\u001b[0m\u001b[37m\u001b[0m \u001b[1m5s\u001b[0m 3ms/step - accuracy: 0.6676 - loss: 0.7392 - val_accuracy: 0.6891 - val_loss: 0.7129\n",
      "Epoch 26/200\n",
      "\u001b[1m860/860\u001b[0m \u001b[32m━━━━━━━━━━━━━━━━━━━━\u001b[0m\u001b[37m\u001b[0m \u001b[1m4s\u001b[0m 4ms/step - accuracy: 0.6669 - loss: 0.7391 - val_accuracy: 0.6904 - val_loss: 0.7125\n",
      "Epoch 27/200\n",
      "\u001b[1m860/860\u001b[0m \u001b[32m━━━━━━━━━━━━━━━━━━━━\u001b[0m\u001b[37m\u001b[0m \u001b[1m4s\u001b[0m 3ms/step - accuracy: 0.6664 - loss: 0.7390 - val_accuracy: 0.6918 - val_loss: 0.7123\n",
      "Epoch 28/200\n",
      "\u001b[1m860/860\u001b[0m \u001b[32m━━━━━━━━━━━━━━━━━━━━\u001b[0m\u001b[37m\u001b[0m \u001b[1m3s\u001b[0m 3ms/step - accuracy: 0.6678 - loss: 0.7388 - val_accuracy: 0.6924 - val_loss: 0.7115\n",
      "Epoch 29/200\n",
      "\u001b[1m860/860\u001b[0m \u001b[32m━━━━━━━━━━━━━━━━━━━━\u001b[0m\u001b[37m\u001b[0m \u001b[1m6s\u001b[0m 4ms/step - accuracy: 0.6678 - loss: 0.7386 - val_accuracy: 0.6924 - val_loss: 0.7120\n",
      "Epoch 30/200\n",
      "\u001b[1m860/860\u001b[0m \u001b[32m━━━━━━━━━━━━━━━━━━━━\u001b[0m\u001b[37m\u001b[0m \u001b[1m3s\u001b[0m 4ms/step - accuracy: 0.6678 - loss: 0.7382 - val_accuracy: 0.6910 - val_loss: 0.7120\n",
      "Epoch 31/200\n",
      "\u001b[1m860/860\u001b[0m \u001b[32m━━━━━━━━━━━━━━━━━━━━\u001b[0m\u001b[37m\u001b[0m \u001b[1m3s\u001b[0m 3ms/step - accuracy: 0.6686 - loss: 0.7384 - val_accuracy: 0.6916 - val_loss: 0.7118\n",
      "Epoch 32/200\n",
      "\u001b[1m860/860\u001b[0m \u001b[32m━━━━━━━━━━━━━━━━━━━━\u001b[0m\u001b[37m\u001b[0m \u001b[1m2s\u001b[0m 3ms/step - accuracy: 0.6675 - loss: 0.7383 - val_accuracy: 0.6902 - val_loss: 0.7131\n",
      "Epoch 33/200\n",
      "\u001b[1m860/860\u001b[0m \u001b[32m━━━━━━━━━━━━━━━━━━━━\u001b[0m\u001b[37m\u001b[0m \u001b[1m4s\u001b[0m 5ms/step - accuracy: 0.6675 - loss: 0.7385 - val_accuracy: 0.6908 - val_loss: 0.7125\n",
      "Epoch 34/200\n",
      "\u001b[1m860/860\u001b[0m \u001b[32m━━━━━━━━━━━━━━━━━━━━\u001b[0m\u001b[37m\u001b[0m \u001b[1m4s\u001b[0m 3ms/step - accuracy: 0.6679 - loss: 0.7386 - val_accuracy: 0.6922 - val_loss: 0.7128\n",
      "Epoch 35/200\n",
      "\u001b[1m860/860\u001b[0m \u001b[32m━━━━━━━━━━━━━━━━━━━━\u001b[0m\u001b[37m\u001b[0m \u001b[1m3s\u001b[0m 3ms/step - accuracy: 0.6684 - loss: 0.7383 - val_accuracy: 0.6930 - val_loss: 0.7134\n",
      "Epoch 36/200\n",
      "\u001b[1m860/860\u001b[0m \u001b[32m━━━━━━━━━━━━━━━━━━━━\u001b[0m\u001b[37m\u001b[0m \u001b[1m3s\u001b[0m 3ms/step - accuracy: 0.6681 - loss: 0.7386 - val_accuracy: 0.6932 - val_loss: 0.7136\n",
      "Epoch 37/200\n",
      "\u001b[1m860/860\u001b[0m \u001b[32m━━━━━━━━━━━━━━━━━━━━\u001b[0m\u001b[37m\u001b[0m \u001b[1m5s\u001b[0m 3ms/step - accuracy: 0.6688 - loss: 0.7385 - val_accuracy: 0.6928 - val_loss: 0.7137\n",
      "Epoch 38/200\n",
      "\u001b[1m860/860\u001b[0m \u001b[32m━━━━━━━━━━━━━━━━━━━━\u001b[0m\u001b[37m\u001b[0m \u001b[1m5s\u001b[0m 3ms/step - accuracy: 0.6689 - loss: 0.7384 - val_accuracy: 0.6922 - val_loss: 0.7137\n",
      "Epoch 39/200\n",
      "\u001b[1m860/860\u001b[0m \u001b[32m━━━━━━━━━━━━━━━━━━━━\u001b[0m\u001b[37m\u001b[0m \u001b[1m6s\u001b[0m 4ms/step - accuracy: 0.6684 - loss: 0.7386 - val_accuracy: 0.6906 - val_loss: 0.7141\n",
      "Epoch 40/200\n",
      "\u001b[1m860/860\u001b[0m \u001b[32m━━━━━━━━━━━━━━━━━━━━\u001b[0m\u001b[37m\u001b[0m \u001b[1m3s\u001b[0m 3ms/step - accuracy: 0.6696 - loss: 0.7383 - val_accuracy: 0.6914 - val_loss: 0.7158\n",
      "Epoch 41/200\n",
      "\u001b[1m860/860\u001b[0m \u001b[32m━━━━━━━━━━━━━━━━━━━━\u001b[0m\u001b[37m\u001b[0m \u001b[1m3s\u001b[0m 3ms/step - accuracy: 0.6694 - loss: 0.7381 - val_accuracy: 0.6928 - val_loss: 0.7137\n",
      "Epoch 42/200\n",
      "\u001b[1m860/860\u001b[0m \u001b[32m━━━━━━━━━━━━━━━━━━━━\u001b[0m\u001b[37m\u001b[0m \u001b[1m6s\u001b[0m 4ms/step - accuracy: 0.6688 - loss: 0.7381 - val_accuracy: 0.6910 - val_loss: 0.7151\n",
      "Epoch 43/200\n",
      "\u001b[1m860/860\u001b[0m \u001b[32m━━━━━━━━━━━━━━━━━━━━\u001b[0m\u001b[37m\u001b[0m \u001b[1m4s\u001b[0m 3ms/step - accuracy: 0.6691 - loss: 0.7385 - val_accuracy: 0.6926 - val_loss: 0.7146\n",
      "Epoch 44/200\n",
      "\u001b[1m860/860\u001b[0m \u001b[32m━━━━━━━━━━━━━━━━━━━━\u001b[0m\u001b[37m\u001b[0m \u001b[1m3s\u001b[0m 4ms/step - accuracy: 0.6688 - loss: 0.7381 - val_accuracy: 0.6924 - val_loss: 0.7154\n",
      "Epoch 45/200\n",
      "\u001b[1m860/860\u001b[0m \u001b[32m━━━━━━━━━━━━━━━━━━━━\u001b[0m\u001b[37m\u001b[0m \u001b[1m3s\u001b[0m 3ms/step - accuracy: 0.6703 - loss: 0.7380 - val_accuracy: 0.6918 - val_loss: 0.7149\n",
      "Epoch 46/200\n",
      "\u001b[1m860/860\u001b[0m \u001b[32m━━━━━━━━━━━━━━━━━━━━\u001b[0m\u001b[37m\u001b[0m \u001b[1m4s\u001b[0m 4ms/step - accuracy: 0.6696 - loss: 0.7380 - val_accuracy: 0.6916 - val_loss: 0.7156\n",
      "Epoch 47/200\n",
      "\u001b[1m860/860\u001b[0m \u001b[32m━━━━━━━━━━━━━━━━━━━━\u001b[0m\u001b[37m\u001b[0m \u001b[1m3s\u001b[0m 3ms/step - accuracy: 0.6689 - loss: 0.7378 - val_accuracy: 0.6908 - val_loss: 0.7146\n",
      "Epoch 48/200\n",
      "\u001b[1m860/860\u001b[0m \u001b[32m━━━━━━━━━━━━━━━━━━━━\u001b[0m\u001b[37m\u001b[0m \u001b[1m4s\u001b[0m 3ms/step - accuracy: 0.6682 - loss: 0.7380 - val_accuracy: 0.6912 - val_loss: 0.7153\n",
      "Epoch 49/200\n",
      "\u001b[1m860/860\u001b[0m \u001b[32m━━━━━━━━━━━━━━━━━━━━\u001b[0m\u001b[37m\u001b[0m \u001b[1m4s\u001b[0m 4ms/step - accuracy: 0.6688 - loss: 0.7379 - val_accuracy: 0.6910 - val_loss: 0.7161\n",
      "Epoch 50/200\n",
      "\u001b[1m860/860\u001b[0m \u001b[32m━━━━━━━━━━━━━━━━━━━━\u001b[0m\u001b[37m\u001b[0m \u001b[1m4s\u001b[0m 3ms/step - accuracy: 0.6689 - loss: 0.7378 - val_accuracy: 0.6918 - val_loss: 0.7150\n",
      "Epoch 51/200\n",
      "\u001b[1m860/860\u001b[0m \u001b[32m━━━━━━━━━━━━━━━━━━━━\u001b[0m\u001b[37m\u001b[0m \u001b[1m3s\u001b[0m 3ms/step - accuracy: 0.6702 - loss: 0.7375 - val_accuracy: 0.6912 - val_loss: 0.7156\n",
      "Epoch 52/200\n",
      "\u001b[1m860/860\u001b[0m \u001b[32m━━━━━━━━━━━━━━━━━━━━\u001b[0m\u001b[37m\u001b[0m \u001b[1m3s\u001b[0m 3ms/step - accuracy: 0.6693 - loss: 0.7374 - val_accuracy: 0.6891 - val_loss: 0.7162\n",
      "Epoch 53/200\n",
      "\u001b[1m860/860\u001b[0m \u001b[32m━━━━━━━━━━━━━━━━━━━━\u001b[0m\u001b[37m\u001b[0m \u001b[1m4s\u001b[0m 4ms/step - accuracy: 0.6697 - loss: 0.7371 - val_accuracy: 0.6902 - val_loss: 0.7147\n",
      "Epoch 54/200\n",
      "\u001b[1m860/860\u001b[0m \u001b[32m━━━━━━━━━━━━━━━━━━━━\u001b[0m\u001b[37m\u001b[0m \u001b[1m4s\u001b[0m 3ms/step - accuracy: 0.6703 - loss: 0.7372 - val_accuracy: 0.6895 - val_loss: 0.7160\n",
      "Epoch 55/200\n",
      "\u001b[1m860/860\u001b[0m \u001b[32m━━━━━━━━━━━━━━━━━━━━\u001b[0m\u001b[37m\u001b[0m \u001b[1m3s\u001b[0m 3ms/step - accuracy: 0.6705 - loss: 0.7373 - val_accuracy: 0.6906 - val_loss: 0.7142\n",
      "Epoch 56/200\n",
      "\u001b[1m860/860\u001b[0m \u001b[32m━━━━━━━━━━━━━━━━━━━━\u001b[0m\u001b[37m\u001b[0m \u001b[1m3s\u001b[0m 3ms/step - accuracy: 0.6704 - loss: 0.7372 - val_accuracy: 0.6906 - val_loss: 0.7154\n",
      "Epoch 57/200\n",
      "\u001b[1m860/860\u001b[0m \u001b[32m━━━━━━━━━━━━━━━━━━━━\u001b[0m\u001b[37m\u001b[0m \u001b[1m3s\u001b[0m 4ms/step - accuracy: 0.6699 - loss: 0.7371 - val_accuracy: 0.6885 - val_loss: 0.7170\n",
      "Epoch 58/200\n",
      "\u001b[1m860/860\u001b[0m \u001b[32m━━━━━━━━━━━━━━━━━━━━\u001b[0m\u001b[37m\u001b[0m \u001b[1m3s\u001b[0m 3ms/step - accuracy: 0.6710 - loss: 0.7370 - val_accuracy: 0.6891 - val_loss: 0.7174\n",
      "Epoch 59/200\n",
      "\u001b[1m860/860\u001b[0m \u001b[32m━━━━━━━━━━━━━━━━━━━━\u001b[0m\u001b[37m\u001b[0m \u001b[1m3s\u001b[0m 3ms/step - accuracy: 0.6704 - loss: 0.7369 - val_accuracy: 0.6908 - val_loss: 0.7151\n",
      "Epoch 60/200\n",
      "\u001b[1m860/860\u001b[0m \u001b[32m━━━━━━━━━━━━━━━━━━━━\u001b[0m\u001b[37m\u001b[0m \u001b[1m3s\u001b[0m 3ms/step - accuracy: 0.6711 - loss: 0.7373 - val_accuracy: 0.6889 - val_loss: 0.7155\n",
      "Epoch 61/200\n",
      "\u001b[1m860/860\u001b[0m \u001b[32m━━━━━━━━━━━━━━━━━━━━\u001b[0m\u001b[37m\u001b[0m \u001b[1m3s\u001b[0m 3ms/step - accuracy: 0.6711 - loss: 0.7367 - val_accuracy: 0.6895 - val_loss: 0.7156\n",
      "Epoch 62/200\n",
      "\u001b[1m860/860\u001b[0m \u001b[32m━━━━━━━━━━━━━━━━━━━━\u001b[0m\u001b[37m\u001b[0m \u001b[1m4s\u001b[0m 5ms/step - accuracy: 0.6706 - loss: 0.7369 - val_accuracy: 0.6891 - val_loss: 0.7162\n",
      "Epoch 63/200\n",
      "\u001b[1m860/860\u001b[0m \u001b[32m━━━━━━━━━━━━━━━━━━━━\u001b[0m\u001b[37m\u001b[0m \u001b[1m3s\u001b[0m 3ms/step - accuracy: 0.6713 - loss: 0.7366 - val_accuracy: 0.6891 - val_loss: 0.7153\n",
      "Epoch 64/200\n",
      "\u001b[1m860/860\u001b[0m \u001b[32m━━━━━━━━━━━━━━━━━━━━\u001b[0m\u001b[37m\u001b[0m \u001b[1m3s\u001b[0m 3ms/step - accuracy: 0.6711 - loss: 0.7366 - val_accuracy: 0.6887 - val_loss: 0.7163\n",
      "Epoch 65/200\n",
      "\u001b[1m860/860\u001b[0m \u001b[32m━━━━━━━━━━━━━━━━━━━━\u001b[0m\u001b[37m\u001b[0m \u001b[1m3s\u001b[0m 3ms/step - accuracy: 0.6710 - loss: 0.7369 - val_accuracy: 0.6893 - val_loss: 0.7149\n",
      "Epoch 66/200\n",
      "\u001b[1m860/860\u001b[0m \u001b[32m━━━━━━━━━━━━━━━━━━━━\u001b[0m\u001b[37m\u001b[0m \u001b[1m4s\u001b[0m 5ms/step - accuracy: 0.6713 - loss: 0.7365 - val_accuracy: 0.6885 - val_loss: 0.7163\n",
      "Epoch 67/200\n",
      "\u001b[1m860/860\u001b[0m \u001b[32m━━━━━━━━━━━━━━━━━━━━\u001b[0m\u001b[37m\u001b[0m \u001b[1m4s\u001b[0m 3ms/step - accuracy: 0.6714 - loss: 0.7366 - val_accuracy: 0.6889 - val_loss: 0.7146\n",
      "Epoch 68/200\n",
      "\u001b[1m860/860\u001b[0m \u001b[32m━━━━━━━━━━━━━━━━━━━━\u001b[0m\u001b[37m\u001b[0m \u001b[1m3s\u001b[0m 3ms/step - accuracy: 0.6713 - loss: 0.7366 - val_accuracy: 0.6895 - val_loss: 0.7145\n",
      "Epoch 69/200\n",
      "\u001b[1m860/860\u001b[0m \u001b[32m━━━━━━━━━━━━━━━━━━━━\u001b[0m\u001b[37m\u001b[0m \u001b[1m6s\u001b[0m 4ms/step - accuracy: 0.6709 - loss: 0.7367 - val_accuracy: 0.6891 - val_loss: 0.7158\n",
      "Epoch 70/200\n",
      "\u001b[1m860/860\u001b[0m \u001b[32m━━━━━━━━━━━━━━━━━━━━\u001b[0m\u001b[37m\u001b[0m \u001b[1m4s\u001b[0m 3ms/step - accuracy: 0.6717 - loss: 0.7363 - val_accuracy: 0.6891 - val_loss: 0.7154\n",
      "Epoch 71/200\n",
      "\u001b[1m860/860\u001b[0m \u001b[32m━━━━━━━━━━━━━━━━━━━━\u001b[0m\u001b[37m\u001b[0m \u001b[1m3s\u001b[0m 3ms/step - accuracy: 0.6720 - loss: 0.7364 - val_accuracy: 0.6879 - val_loss: 0.7173\n",
      "Epoch 72/200\n",
      "\u001b[1m860/860\u001b[0m \u001b[32m━━━━━━━━━━━━━━━━━━━━\u001b[0m\u001b[37m\u001b[0m \u001b[1m3s\u001b[0m 3ms/step - accuracy: 0.6718 - loss: 0.7366 - val_accuracy: 0.6895 - val_loss: 0.7166\n",
      "Epoch 73/200\n",
      "\u001b[1m860/860\u001b[0m \u001b[32m━━━━━━━━━━━━━━━━━━━━\u001b[0m\u001b[37m\u001b[0m \u001b[1m5s\u001b[0m 3ms/step - accuracy: 0.6719 - loss: 0.7366 - val_accuracy: 0.6893 - val_loss: 0.7162\n",
      "Epoch 74/200\n",
      "\u001b[1m860/860\u001b[0m \u001b[32m━━━━━━━━━━━━━━━━━━━━\u001b[0m\u001b[37m\u001b[0m \u001b[1m3s\u001b[0m 3ms/step - accuracy: 0.6722 - loss: 0.7365 - val_accuracy: 0.6891 - val_loss: 0.7155\n",
      "Epoch 75/200\n",
      "\u001b[1m860/860\u001b[0m \u001b[32m━━━━━━━━━━━━━━━━━━━━\u001b[0m\u001b[37m\u001b[0m \u001b[1m3s\u001b[0m 3ms/step - accuracy: 0.6715 - loss: 0.7366 - val_accuracy: 0.6897 - val_loss: 0.7157\n",
      "Epoch 76/200\n",
      "\u001b[1m860/860\u001b[0m \u001b[32m━━━━━━━━━━━━━━━━━━━━\u001b[0m\u001b[37m\u001b[0m \u001b[1m6s\u001b[0m 4ms/step - accuracy: 0.6718 - loss: 0.7364 - val_accuracy: 0.6897 - val_loss: 0.7176\n",
      "Epoch 77/200\n",
      "\u001b[1m860/860\u001b[0m \u001b[32m━━━━━━━━━━━━━━━━━━━━\u001b[0m\u001b[37m\u001b[0m \u001b[1m3s\u001b[0m 3ms/step - accuracy: 0.6721 - loss: 0.7363 - val_accuracy: 0.6897 - val_loss: 0.7173\n",
      "Epoch 78/200\n",
      "\u001b[1m860/860\u001b[0m \u001b[32m━━━━━━━━━━━━━━━━━━━━\u001b[0m\u001b[37m\u001b[0m \u001b[1m5s\u001b[0m 3ms/step - accuracy: 0.6715 - loss: 0.7363 - val_accuracy: 0.6897 - val_loss: 0.7172\n",
      "Epoch 79/200\n",
      "\u001b[1m860/860\u001b[0m \u001b[32m━━━━━━━━━━━━━━━━━━━━\u001b[0m\u001b[37m\u001b[0m \u001b[1m4s\u001b[0m 5ms/step - accuracy: 0.6720 - loss: 0.7361 - val_accuracy: 0.6897 - val_loss: 0.7173\n",
      "Epoch 80/200\n",
      "\u001b[1m860/860\u001b[0m \u001b[32m━━━━━━━━━━━━━━━━━━━━\u001b[0m\u001b[37m\u001b[0m \u001b[1m4s\u001b[0m 3ms/step - accuracy: 0.6717 - loss: 0.7358 - val_accuracy: 0.6881 - val_loss: 0.7172\n",
      "Epoch 81/200\n",
      "\u001b[1m860/860\u001b[0m \u001b[32m━━━━━━━━━━━━━━━━━━━━\u001b[0m\u001b[37m\u001b[0m \u001b[1m5s\u001b[0m 3ms/step - accuracy: 0.6718 - loss: 0.7353 - val_accuracy: 0.6873 - val_loss: 0.7163\n",
      "Epoch 82/200\n",
      "\u001b[1m860/860\u001b[0m \u001b[32m━━━━━━━━━━━━━━━━━━━━\u001b[0m\u001b[37m\u001b[0m \u001b[1m5s\u001b[0m 3ms/step - accuracy: 0.6724 - loss: 0.7354 - val_accuracy: 0.6877 - val_loss: 0.7170\n",
      "Epoch 83/200\n",
      "\u001b[1m860/860\u001b[0m \u001b[32m━━━━━━━━━━━━━━━━━━━━\u001b[0m\u001b[37m\u001b[0m \u001b[1m5s\u001b[0m 3ms/step - accuracy: 0.6734 - loss: 0.7356 - val_accuracy: 0.6879 - val_loss: 0.7163\n",
      "Epoch 84/200\n",
      "\u001b[1m860/860\u001b[0m \u001b[32m━━━━━━━━━━━━━━━━━━━━\u001b[0m\u001b[37m\u001b[0m \u001b[1m3s\u001b[0m 4ms/step - accuracy: 0.6724 - loss: 0.7356 - val_accuracy: 0.6871 - val_loss: 0.7170\n",
      "Epoch 85/200\n",
      "\u001b[1m860/860\u001b[0m \u001b[32m━━━━━━━━━━━━━━━━━━━━\u001b[0m\u001b[37m\u001b[0m \u001b[1m5s\u001b[0m 3ms/step - accuracy: 0.6727 - loss: 0.7352 - val_accuracy: 0.6887 - val_loss: 0.7159\n",
      "Epoch 86/200\n",
      "\u001b[1m860/860\u001b[0m \u001b[32m━━━━━━━━━━━━━━━━━━━━\u001b[0m\u001b[37m\u001b[0m \u001b[1m3s\u001b[0m 3ms/step - accuracy: 0.6725 - loss: 0.7352 - val_accuracy: 0.6887 - val_loss: 0.7154\n",
      "Epoch 87/200\n",
      "\u001b[1m860/860\u001b[0m \u001b[32m━━━━━━━━━━━━━━━━━━━━\u001b[0m\u001b[37m\u001b[0m \u001b[1m3s\u001b[0m 3ms/step - accuracy: 0.6724 - loss: 0.7354 - val_accuracy: 0.6883 - val_loss: 0.7165\n",
      "Epoch 88/200\n",
      "\u001b[1m860/860\u001b[0m \u001b[32m━━━━━━━━━━━━━━━━━━━━\u001b[0m\u001b[37m\u001b[0m \u001b[1m6s\u001b[0m 3ms/step - accuracy: 0.6726 - loss: 0.7355 - val_accuracy: 0.6879 - val_loss: 0.7166\n",
      "Epoch 89/200\n",
      "\u001b[1m860/860\u001b[0m \u001b[32m━━━━━━━━━━━━━━━━━━━━\u001b[0m\u001b[37m\u001b[0m \u001b[1m3s\u001b[0m 4ms/step - accuracy: 0.6727 - loss: 0.7356 - val_accuracy: 0.6895 - val_loss: 0.7170\n",
      "Epoch 90/200\n",
      "\u001b[1m860/860\u001b[0m \u001b[32m━━━━━━━━━━━━━━━━━━━━\u001b[0m\u001b[37m\u001b[0m \u001b[1m10s\u001b[0m 10ms/step - accuracy: 0.6733 - loss: 0.7356 - val_accuracy: 0.6899 - val_loss: 0.7176\n",
      "Epoch 91/200\n",
      "\u001b[1m860/860\u001b[0m \u001b[32m━━━━━━━━━━━━━━━━━━━━\u001b[0m\u001b[37m\u001b[0m \u001b[1m3s\u001b[0m 3ms/step - accuracy: 0.6731 - loss: 0.7357 - val_accuracy: 0.6899 - val_loss: 0.7171\n",
      "Epoch 92/200\n",
      "\u001b[1m860/860\u001b[0m \u001b[32m━━━━━━━━━━━━━━━━━━━━\u001b[0m\u001b[37m\u001b[0m \u001b[1m3s\u001b[0m 4ms/step - accuracy: 0.6731 - loss: 0.7355 - val_accuracy: 0.6875 - val_loss: 0.7170\n",
      "Epoch 93/200\n",
      "\u001b[1m860/860\u001b[0m \u001b[32m━━━━━━━━━━━━━━━━━━━━\u001b[0m\u001b[37m\u001b[0m \u001b[1m6s\u001b[0m 7ms/step - accuracy: 0.6724 - loss: 0.7358 - val_accuracy: 0.6873 - val_loss: 0.7163\n",
      "Epoch 94/200\n",
      "\u001b[1m860/860\u001b[0m \u001b[32m━━━━━━━━━━━━━━━━━━━━\u001b[0m\u001b[37m\u001b[0m \u001b[1m7s\u001b[0m 3ms/step - accuracy: 0.6726 - loss: 0.7356 - val_accuracy: 0.6891 - val_loss: 0.7173\n",
      "Epoch 95/200\n",
      "\u001b[1m860/860\u001b[0m \u001b[32m━━━━━━━━━━━━━━━━━━━━\u001b[0m\u001b[37m\u001b[0m \u001b[1m3s\u001b[0m 4ms/step - accuracy: 0.6726 - loss: 0.7353 - val_accuracy: 0.6881 - val_loss: 0.7170\n",
      "Epoch 96/200\n",
      "\u001b[1m860/860\u001b[0m \u001b[32m━━━━━━━━━━━━━━━━━━━━\u001b[0m\u001b[37m\u001b[0m \u001b[1m4s\u001b[0m 3ms/step - accuracy: 0.6730 - loss: 0.7356 - val_accuracy: 0.6893 - val_loss: 0.7187\n",
      "Epoch 97/200\n",
      "\u001b[1m860/860\u001b[0m \u001b[32m━━━━━━━━━━━━━━━━━━━━\u001b[0m\u001b[37m\u001b[0m \u001b[1m5s\u001b[0m 3ms/step - accuracy: 0.6721 - loss: 0.7355 - val_accuracy: 0.6875 - val_loss: 0.7176\n",
      "Epoch 98/200\n",
      "\u001b[1m860/860\u001b[0m \u001b[32m━━━━━━━━━━━━━━━━━━━━\u001b[0m\u001b[37m\u001b[0m \u001b[1m3s\u001b[0m 4ms/step - accuracy: 0.6721 - loss: 0.7356 - val_accuracy: 0.6885 - val_loss: 0.7176\n",
      "Epoch 99/200\n",
      "\u001b[1m860/860\u001b[0m \u001b[32m━━━━━━━━━━━━━━━━━━━━\u001b[0m\u001b[37m\u001b[0m \u001b[1m5s\u001b[0m 3ms/step - accuracy: 0.6717 - loss: 0.7352 - val_accuracy: 0.6881 - val_loss: 0.7175\n",
      "Epoch 100/200\n",
      "\u001b[1m860/860\u001b[0m \u001b[32m━━━━━━━━━━━━━━━━━━━━\u001b[0m\u001b[37m\u001b[0m \u001b[1m5s\u001b[0m 3ms/step - accuracy: 0.6717 - loss: 0.7355 - val_accuracy: 0.6869 - val_loss: 0.7174\n",
      "Epoch 101/200\n",
      "\u001b[1m860/860\u001b[0m \u001b[32m━━━━━━━━━━━━━━━━━━━━\u001b[0m\u001b[37m\u001b[0m \u001b[1m4s\u001b[0m 4ms/step - accuracy: 0.6714 - loss: 0.7354 - val_accuracy: 0.6875 - val_loss: 0.7177\n",
      "Epoch 102/200\n",
      "\u001b[1m860/860\u001b[0m \u001b[32m━━━━━━━━━━━━━━━━━━━━\u001b[0m\u001b[37m\u001b[0m \u001b[1m3s\u001b[0m 3ms/step - accuracy: 0.6722 - loss: 0.7357 - val_accuracy: 0.6867 - val_loss: 0.7177\n",
      "Epoch 103/200\n",
      "\u001b[1m860/860\u001b[0m \u001b[32m━━━━━━━━━━━━━━━━━━━━\u001b[0m\u001b[37m\u001b[0m \u001b[1m3s\u001b[0m 3ms/step - accuracy: 0.6715 - loss: 0.7357 - val_accuracy: 0.6883 - val_loss: 0.7182\n",
      "Epoch 104/200\n",
      "\u001b[1m860/860\u001b[0m \u001b[32m━━━━━━━━━━━━━━━━━━━━\u001b[0m\u001b[37m\u001b[0m \u001b[1m5s\u001b[0m 3ms/step - accuracy: 0.6717 - loss: 0.7358 - val_accuracy: 0.6883 - val_loss: 0.7174\n",
      "Epoch 105/200\n",
      "\u001b[1m860/860\u001b[0m \u001b[32m━━━━━━━━━━━━━━━━━━━━\u001b[0m\u001b[37m\u001b[0m \u001b[1m3s\u001b[0m 4ms/step - accuracy: 0.6725 - loss: 0.7359 - val_accuracy: 0.6877 - val_loss: 0.7179\n",
      "Epoch 106/200\n",
      "\u001b[1m860/860\u001b[0m \u001b[32m━━━━━━━━━━━━━━━━━━━━\u001b[0m\u001b[37m\u001b[0m \u001b[1m5s\u001b[0m 4ms/step - accuracy: 0.6733 - loss: 0.7356 - val_accuracy: 0.6873 - val_loss: 0.7179\n",
      "Epoch 107/200\n",
      "\u001b[1m860/860\u001b[0m \u001b[32m━━━━━━━━━━━━━━━━━━━━\u001b[0m\u001b[37m\u001b[0m \u001b[1m3s\u001b[0m 4ms/step - accuracy: 0.6726 - loss: 0.7359 - val_accuracy: 0.6862 - val_loss: 0.7166\n",
      "Epoch 108/200\n",
      "\u001b[1m860/860\u001b[0m \u001b[32m━━━━━━━━━━━━━━━━━━━━\u001b[0m\u001b[37m\u001b[0m \u001b[1m4s\u001b[0m 5ms/step - accuracy: 0.6732 - loss: 0.7355 - val_accuracy: 0.6887 - val_loss: 0.7170\n",
      "Epoch 109/200\n",
      "\u001b[1m860/860\u001b[0m \u001b[32m━━━━━━━━━━━━━━━━━━━━\u001b[0m\u001b[37m\u001b[0m \u001b[1m3s\u001b[0m 4ms/step - accuracy: 0.6731 - loss: 0.7357 - val_accuracy: 0.6875 - val_loss: 0.7163\n",
      "Epoch 110/200\n",
      "\u001b[1m860/860\u001b[0m \u001b[32m━━━━━━━━━━━━━━━━━━━━\u001b[0m\u001b[37m\u001b[0m \u001b[1m5s\u001b[0m 3ms/step - accuracy: 0.6731 - loss: 0.7356 - val_accuracy: 0.6871 - val_loss: 0.7174\n",
      "Epoch 111/200\n",
      "\u001b[1m860/860\u001b[0m \u001b[32m━━━━━━━━━━━━━━━━━━━━\u001b[0m\u001b[37m\u001b[0m \u001b[1m3s\u001b[0m 4ms/step - accuracy: 0.6728 - loss: 0.7357 - val_accuracy: 0.6877 - val_loss: 0.7169\n",
      "Epoch 112/200\n",
      "\u001b[1m860/860\u001b[0m \u001b[32m━━━━━━━━━━━━━━━━━━━━\u001b[0m\u001b[37m\u001b[0m \u001b[1m4s\u001b[0m 3ms/step - accuracy: 0.6735 - loss: 0.7355 - val_accuracy: 0.6891 - val_loss: 0.7163\n",
      "Epoch 113/200\n",
      "\u001b[1m860/860\u001b[0m \u001b[32m━━━━━━━━━━━━━━━━━━━━\u001b[0m\u001b[37m\u001b[0m \u001b[1m3s\u001b[0m 3ms/step - accuracy: 0.6735 - loss: 0.7355 - val_accuracy: 0.6889 - val_loss: 0.7177\n",
      "Epoch 114/200\n",
      "\u001b[1m860/860\u001b[0m \u001b[32m━━━━━━━━━━━━━━━━━━━━\u001b[0m\u001b[37m\u001b[0m \u001b[1m7s\u001b[0m 5ms/step - accuracy: 0.6730 - loss: 0.7359 - val_accuracy: 0.6889 - val_loss: 0.7174\n",
      "Epoch 115/200\n",
      "\u001b[1m860/860\u001b[0m \u001b[32m━━━━━━━━━━━━━━━━━━━━\u001b[0m\u001b[37m\u001b[0m \u001b[1m3s\u001b[0m 3ms/step - accuracy: 0.6728 - loss: 0.7355 - val_accuracy: 0.6881 - val_loss: 0.7164\n",
      "Epoch 116/200\n",
      "\u001b[1m860/860\u001b[0m \u001b[32m━━━━━━━━━━━━━━━━━━━━\u001b[0m\u001b[37m\u001b[0m \u001b[1m3s\u001b[0m 3ms/step - accuracy: 0.6730 - loss: 0.7355 - val_accuracy: 0.6902 - val_loss: 0.7179\n",
      "Epoch 117/200\n",
      "\u001b[1m860/860\u001b[0m \u001b[32m━━━━━━━━━━━━━━━━━━━━\u001b[0m\u001b[37m\u001b[0m \u001b[1m3s\u001b[0m 3ms/step - accuracy: 0.6732 - loss: 0.7358 - val_accuracy: 0.6883 - val_loss: 0.7174\n",
      "Epoch 118/200\n",
      "\u001b[1m860/860\u001b[0m \u001b[32m━━━━━━━━━━━━━━━━━━━━\u001b[0m\u001b[37m\u001b[0m \u001b[1m3s\u001b[0m 4ms/step - accuracy: 0.6735 - loss: 0.7353 - val_accuracy: 0.6875 - val_loss: 0.7177\n",
      "Epoch 119/200\n",
      "\u001b[1m860/860\u001b[0m \u001b[32m━━━━━━━━━━━━━━━━━━━━\u001b[0m\u001b[37m\u001b[0m \u001b[1m4s\u001b[0m 3ms/step - accuracy: 0.6731 - loss: 0.7356 - val_accuracy: 0.6889 - val_loss: 0.7173\n",
      "Epoch 120/200\n",
      "\u001b[1m860/860\u001b[0m \u001b[32m━━━━━━━━━━━━━━━━━━━━\u001b[0m\u001b[37m\u001b[0m \u001b[1m3s\u001b[0m 3ms/step - accuracy: 0.6727 - loss: 0.7355 - val_accuracy: 0.6869 - val_loss: 0.7166\n",
      "Epoch 121/200\n",
      "\u001b[1m860/860\u001b[0m \u001b[32m━━━━━━━━━━━━━━━━━━━━\u001b[0m\u001b[37m\u001b[0m \u001b[1m6s\u001b[0m 4ms/step - accuracy: 0.6728 - loss: 0.7357 - val_accuracy: 0.6883 - val_loss: 0.7177\n",
      "Epoch 122/200\n",
      "\u001b[1m860/860\u001b[0m \u001b[32m━━━━━━━━━━━━━━━━━━━━\u001b[0m\u001b[37m\u001b[0m \u001b[1m8s\u001b[0m 8ms/step - accuracy: 0.6733 - loss: 0.7354 - val_accuracy: 0.6871 - val_loss: 0.7166\n",
      "Epoch 123/200\n",
      "\u001b[1m860/860\u001b[0m \u001b[32m━━━━━━━━━━━━━━━━━━━━\u001b[0m\u001b[37m\u001b[0m \u001b[1m7s\u001b[0m 8ms/step - accuracy: 0.6729 - loss: 0.7354 - val_accuracy: 0.6895 - val_loss: 0.7156\n",
      "Epoch 124/200\n",
      "\u001b[1m860/860\u001b[0m \u001b[32m━━━━━━━━━━━━━━━━━━━━\u001b[0m\u001b[37m\u001b[0m \u001b[1m9s\u001b[0m 7ms/step - accuracy: 0.6733 - loss: 0.7354 - val_accuracy: 0.6867 - val_loss: 0.7164\n",
      "Epoch 125/200\n",
      "\u001b[1m860/860\u001b[0m \u001b[32m━━━━━━━━━━━━━━━━━━━━\u001b[0m\u001b[37m\u001b[0m \u001b[1m5s\u001b[0m 5ms/step - accuracy: 0.6728 - loss: 0.7355 - val_accuracy: 0.6885 - val_loss: 0.7173\n",
      "Epoch 126/200\n",
      "\u001b[1m860/860\u001b[0m \u001b[32m━━━━━━━━━━━━━━━━━━━━\u001b[0m\u001b[37m\u001b[0m \u001b[1m3s\u001b[0m 3ms/step - accuracy: 0.6741 - loss: 0.7352 - val_accuracy: 0.6879 - val_loss: 0.7172\n",
      "Epoch 127/200\n",
      "\u001b[1m860/860\u001b[0m \u001b[32m━━━━━━━━━━━━━━━━━━━━\u001b[0m\u001b[37m\u001b[0m \u001b[1m6s\u001b[0m 4ms/step - accuracy: 0.6728 - loss: 0.7354 - val_accuracy: 0.6881 - val_loss: 0.7174\n",
      "Epoch 128/200\n",
      "\u001b[1m860/860\u001b[0m \u001b[32m━━━━━━━━━━━━━━━━━━━━\u001b[0m\u001b[37m\u001b[0m \u001b[1m4s\u001b[0m 5ms/step - accuracy: 0.6730 - loss: 0.7356 - val_accuracy: 0.6862 - val_loss: 0.7166\n",
      "Epoch 129/200\n",
      "\u001b[1m860/860\u001b[0m \u001b[32m━━━━━━━━━━━━━━━━━━━━\u001b[0m\u001b[37m\u001b[0m \u001b[1m3s\u001b[0m 4ms/step - accuracy: 0.6732 - loss: 0.7354 - val_accuracy: 0.6873 - val_loss: 0.7171\n",
      "Epoch 130/200\n",
      "\u001b[1m860/860\u001b[0m \u001b[32m━━━━━━━━━━━━━━━━━━━━\u001b[0m\u001b[37m\u001b[0m \u001b[1m4s\u001b[0m 3ms/step - accuracy: 0.6730 - loss: 0.7354 - val_accuracy: 0.6875 - val_loss: 0.7171\n",
      "Epoch 131/200\n",
      "\u001b[1m860/860\u001b[0m \u001b[32m━━━━━━━━━━━━━━━━━━━━\u001b[0m\u001b[37m\u001b[0m \u001b[1m4s\u001b[0m 4ms/step - accuracy: 0.6742 - loss: 0.7355 - val_accuracy: 0.6877 - val_loss: 0.7165\n",
      "Epoch 132/200\n",
      "\u001b[1m860/860\u001b[0m \u001b[32m━━━━━━━━━━━━━━━━━━━━\u001b[0m\u001b[37m\u001b[0m \u001b[1m4s\u001b[0m 3ms/step - accuracy: 0.6738 - loss: 0.7354 - val_accuracy: 0.6875 - val_loss: 0.7165\n",
      "Epoch 133/200\n",
      "\u001b[1m860/860\u001b[0m \u001b[32m━━━━━━━━━━━━━━━━━━━━\u001b[0m\u001b[37m\u001b[0m \u001b[1m3s\u001b[0m 3ms/step - accuracy: 0.6730 - loss: 0.7354 - val_accuracy: 0.6885 - val_loss: 0.7175\n",
      "Epoch 134/200\n",
      "\u001b[1m860/860\u001b[0m \u001b[32m━━━━━━━━━━━━━━━━━━━━\u001b[0m\u001b[37m\u001b[0m \u001b[1m3s\u001b[0m 3ms/step - accuracy: 0.6727 - loss: 0.7355 - val_accuracy: 0.6875 - val_loss: 0.7163\n",
      "Epoch 135/200\n",
      "\u001b[1m860/860\u001b[0m \u001b[32m━━━━━━━━━━━━━━━━━━━━\u001b[0m\u001b[37m\u001b[0m \u001b[1m5s\u001b[0m 4ms/step - accuracy: 0.6729 - loss: 0.7355 - val_accuracy: 0.6873 - val_loss: 0.7170\n",
      "Epoch 136/200\n",
      "\u001b[1m860/860\u001b[0m \u001b[32m━━━━━━━━━━━━━━━━━━━━\u001b[0m\u001b[37m\u001b[0m \u001b[1m3s\u001b[0m 3ms/step - accuracy: 0.6732 - loss: 0.7356 - val_accuracy: 0.6873 - val_loss: 0.7172\n",
      "Epoch 137/200\n",
      "\u001b[1m860/860\u001b[0m \u001b[32m━━━━━━━━━━━━━━━━━━━━\u001b[0m\u001b[37m\u001b[0m \u001b[1m3s\u001b[0m 4ms/step - accuracy: 0.6732 - loss: 0.7355 - val_accuracy: 0.6862 - val_loss: 0.7164\n",
      "Epoch 138/200\n",
      "\u001b[1m860/860\u001b[0m \u001b[32m━━━━━━━━━━━━━━━━━━━━\u001b[0m\u001b[37m\u001b[0m \u001b[1m6s\u001b[0m 4ms/step - accuracy: 0.6732 - loss: 0.7354 - val_accuracy: 0.6883 - val_loss: 0.7165\n",
      "Epoch 139/200\n",
      "\u001b[1m860/860\u001b[0m \u001b[32m━━━━━━━━━━━━━━━━━━━━\u001b[0m\u001b[37m\u001b[0m \u001b[1m3s\u001b[0m 3ms/step - accuracy: 0.6732 - loss: 0.7353 - val_accuracy: 0.6873 - val_loss: 0.7159\n",
      "Epoch 140/200\n",
      "\u001b[1m860/860\u001b[0m \u001b[32m━━━━━━━━━━━━━━━━━━━━\u001b[0m\u001b[37m\u001b[0m \u001b[1m5s\u001b[0m 3ms/step - accuracy: 0.6736 - loss: 0.7354 - val_accuracy: 0.6864 - val_loss: 0.7157\n",
      "Epoch 141/200\n",
      "\u001b[1m860/860\u001b[0m \u001b[32m━━━━━━━━━━━━━━━━━━━━\u001b[0m\u001b[37m\u001b[0m \u001b[1m4s\u001b[0m 5ms/step - accuracy: 0.6730 - loss: 0.7354 - val_accuracy: 0.6887 - val_loss: 0.7172\n",
      "Epoch 142/200\n",
      "\u001b[1m860/860\u001b[0m \u001b[32m━━━━━━━━━━━━━━━━━━━━\u001b[0m\u001b[37m\u001b[0m \u001b[1m3s\u001b[0m 3ms/step - accuracy: 0.6738 - loss: 0.7352 - val_accuracy: 0.6883 - val_loss: 0.7168\n",
      "Epoch 143/200\n",
      "\u001b[1m860/860\u001b[0m \u001b[32m━━━━━━━━━━━━━━━━━━━━\u001b[0m\u001b[37m\u001b[0m \u001b[1m5s\u001b[0m 3ms/step - accuracy: 0.6732 - loss: 0.7353 - val_accuracy: 0.6891 - val_loss: 0.7160\n",
      "Epoch 144/200\n",
      "\u001b[1m860/860\u001b[0m \u001b[32m━━━━━━━━━━━━━━━━━━━━\u001b[0m\u001b[37m\u001b[0m \u001b[1m3s\u001b[0m 3ms/step - accuracy: 0.6737 - loss: 0.7353 - val_accuracy: 0.6875 - val_loss: 0.7167\n",
      "Epoch 145/200\n",
      "\u001b[1m860/860\u001b[0m \u001b[32m━━━━━━━━━━━━━━━━━━━━\u001b[0m\u001b[37m\u001b[0m \u001b[1m5s\u001b[0m 3ms/step - accuracy: 0.6731 - loss: 0.7354 - val_accuracy: 0.6877 - val_loss: 0.7156\n",
      "Epoch 146/200\n",
      "\u001b[1m860/860\u001b[0m \u001b[32m━━━━━━━━━━━━━━━━━━━━\u001b[0m\u001b[37m\u001b[0m \u001b[1m2s\u001b[0m 3ms/step - accuracy: 0.6730 - loss: 0.7354 - val_accuracy: 0.6877 - val_loss: 0.7165\n",
      "Epoch 147/200\n",
      "\u001b[1m860/860\u001b[0m \u001b[32m━━━━━━━━━━━━━━━━━━━━\u001b[0m\u001b[37m\u001b[0m \u001b[1m3s\u001b[0m 3ms/step - accuracy: 0.6740 - loss: 0.7355 - val_accuracy: 0.6871 - val_loss: 0.7168\n",
      "Epoch 148/200\n",
      "\u001b[1m860/860\u001b[0m \u001b[32m━━━━━━━━━━━━━━━━━━━━\u001b[0m\u001b[37m\u001b[0m \u001b[1m4s\u001b[0m 4ms/step - accuracy: 0.6733 - loss: 0.7354 - val_accuracy: 0.6885 - val_loss: 0.7164\n",
      "Epoch 149/200\n",
      "\u001b[1m860/860\u001b[0m \u001b[32m━━━━━━━━━━━━━━━━━━━━\u001b[0m\u001b[37m\u001b[0m \u001b[1m4s\u001b[0m 3ms/step - accuracy: 0.6739 - loss: 0.7352 - val_accuracy: 0.6883 - val_loss: 0.7157\n",
      "Epoch 150/200\n",
      "\u001b[1m860/860\u001b[0m \u001b[32m━━━━━━━━━━━━━━━━━━━━\u001b[0m\u001b[37m\u001b[0m \u001b[1m3s\u001b[0m 3ms/step - accuracy: 0.6741 - loss: 0.7353 - val_accuracy: 0.6881 - val_loss: 0.7158\n",
      "Epoch 151/200\n",
      "\u001b[1m860/860\u001b[0m \u001b[32m━━━━━━━━━━━━━━━━━━━━\u001b[0m\u001b[37m\u001b[0m \u001b[1m4s\u001b[0m 4ms/step - accuracy: 0.6731 - loss: 0.7355 - val_accuracy: 0.6879 - val_loss: 0.7172\n",
      "Epoch 152/200\n",
      "\u001b[1m860/860\u001b[0m \u001b[32m━━━━━━━━━━━━━━━━━━━━\u001b[0m\u001b[37m\u001b[0m \u001b[1m5s\u001b[0m 4ms/step - accuracy: 0.6731 - loss: 0.7351 - val_accuracy: 0.6867 - val_loss: 0.7156\n",
      "Epoch 153/200\n",
      "\u001b[1m860/860\u001b[0m \u001b[32m━━━━━━━━━━━━━━━━━━━━\u001b[0m\u001b[37m\u001b[0m \u001b[1m5s\u001b[0m 4ms/step - accuracy: 0.6727 - loss: 0.7353 - val_accuracy: 0.6867 - val_loss: 0.7167\n",
      "Epoch 154/200\n",
      "\u001b[1m860/860\u001b[0m \u001b[32m━━━━━━━━━━━━━━━━━━━━\u001b[0m\u001b[37m\u001b[0m \u001b[1m3s\u001b[0m 3ms/step - accuracy: 0.6732 - loss: 0.7355 - val_accuracy: 0.6854 - val_loss: 0.7160\n",
      "Epoch 155/200\n",
      "\u001b[1m860/860\u001b[0m \u001b[32m━━━━━━━━━━━━━━━━━━━━\u001b[0m\u001b[37m\u001b[0m \u001b[1m4s\u001b[0m 4ms/step - accuracy: 0.6737 - loss: 0.7353 - val_accuracy: 0.6864 - val_loss: 0.7168\n",
      "Epoch 156/200\n",
      "\u001b[1m860/860\u001b[0m \u001b[32m━━━━━━━━━━━━━━━━━━━━\u001b[0m\u001b[37m\u001b[0m \u001b[1m4s\u001b[0m 3ms/step - accuracy: 0.6738 - loss: 0.7352 - val_accuracy: 0.6883 - val_loss: 0.7162\n",
      "Epoch 157/200\n",
      "\u001b[1m860/860\u001b[0m \u001b[32m━━━━━━━━━━━━━━━━━━━━\u001b[0m\u001b[37m\u001b[0m \u001b[1m5s\u001b[0m 3ms/step - accuracy: 0.6733 - loss: 0.7352 - val_accuracy: 0.6867 - val_loss: 0.7171\n",
      "Epoch 158/200\n",
      "\u001b[1m860/860\u001b[0m \u001b[32m━━━━━━━━━━━━━━━━━━━━\u001b[0m\u001b[37m\u001b[0m \u001b[1m5s\u001b[0m 3ms/step - accuracy: 0.6739 - loss: 0.7354 - val_accuracy: 0.6875 - val_loss: 0.7155\n",
      "Epoch 159/200\n",
      "\u001b[1m860/860\u001b[0m \u001b[32m━━━━━━━━━━━━━━━━━━━━\u001b[0m\u001b[37m\u001b[0m \u001b[1m5s\u001b[0m 3ms/step - accuracy: 0.6736 - loss: 0.7352 - val_accuracy: 0.6885 - val_loss: 0.7158\n",
      "Epoch 160/200\n",
      "\u001b[1m860/860\u001b[0m \u001b[32m━━━━━━━━━━━━━━━━━━━━\u001b[0m\u001b[37m\u001b[0m \u001b[1m6s\u001b[0m 4ms/step - accuracy: 0.6737 - loss: 0.7354 - val_accuracy: 0.6856 - val_loss: 0.7164\n",
      "Epoch 161/200\n",
      "\u001b[1m860/860\u001b[0m \u001b[32m━━━━━━━━━━━━━━━━━━━━\u001b[0m\u001b[37m\u001b[0m \u001b[1m3s\u001b[0m 4ms/step - accuracy: 0.6724 - loss: 0.7354 - val_accuracy: 0.6871 - val_loss: 0.7163\n",
      "Epoch 162/200\n",
      "\u001b[1m860/860\u001b[0m \u001b[32m━━━━━━━━━━━━━━━━━━━━\u001b[0m\u001b[37m\u001b[0m \u001b[1m5s\u001b[0m 4ms/step - accuracy: 0.6736 - loss: 0.7354 - val_accuracy: 0.6873 - val_loss: 0.7164\n",
      "Epoch 163/200\n",
      "\u001b[1m860/860\u001b[0m \u001b[32m━━━━━━━━━━━━━━━━━━━━\u001b[0m\u001b[37m\u001b[0m \u001b[1m4s\u001b[0m 4ms/step - accuracy: 0.6722 - loss: 0.7353 - val_accuracy: 0.6881 - val_loss: 0.7158\n",
      "Epoch 164/200\n",
      "\u001b[1m860/860\u001b[0m \u001b[32m━━━━━━━━━━━━━━━━━━━━\u001b[0m\u001b[37m\u001b[0m \u001b[1m4s\u001b[0m 4ms/step - accuracy: 0.6727 - loss: 0.7354 - val_accuracy: 0.6860 - val_loss: 0.7164\n",
      "Epoch 165/200\n",
      "\u001b[1m860/860\u001b[0m \u001b[32m━━━━━━━━━━━━━━━━━━━━\u001b[0m\u001b[37m\u001b[0m \u001b[1m3s\u001b[0m 4ms/step - accuracy: 0.6723 - loss: 0.7353 - val_accuracy: 0.6852 - val_loss: 0.7163\n",
      "Epoch 166/200\n",
      "\u001b[1m860/860\u001b[0m \u001b[32m━━━━━━━━━━━━━━━━━━━━\u001b[0m\u001b[37m\u001b[0m \u001b[1m5s\u001b[0m 5ms/step - accuracy: 0.6733 - loss: 0.7352 - val_accuracy: 0.6856 - val_loss: 0.7160\n",
      "Epoch 167/200\n",
      "\u001b[1m860/860\u001b[0m \u001b[32m━━━━━━━━━━━━━━━━━━━━\u001b[0m\u001b[37m\u001b[0m \u001b[1m4s\u001b[0m 4ms/step - accuracy: 0.6725 - loss: 0.7352 - val_accuracy: 0.6862 - val_loss: 0.7173\n",
      "Epoch 168/200\n",
      "\u001b[1m860/860\u001b[0m \u001b[32m━━━━━━━━━━━━━━━━━━━━\u001b[0m\u001b[37m\u001b[0m \u001b[1m5s\u001b[0m 3ms/step - accuracy: 0.6731 - loss: 0.7353 - val_accuracy: 0.6858 - val_loss: 0.7168\n",
      "Epoch 169/200\n",
      "\u001b[1m860/860\u001b[0m \u001b[32m━━━━━━━━━━━━━━━━━━━━\u001b[0m\u001b[37m\u001b[0m \u001b[1m6s\u001b[0m 4ms/step - accuracy: 0.6725 - loss: 0.7354 - val_accuracy: 0.6862 - val_loss: 0.7170\n",
      "Epoch 170/200\n",
      "\u001b[1m860/860\u001b[0m \u001b[32m━━━━━━━━━━━━━━━━━━━━\u001b[0m\u001b[37m\u001b[0m \u001b[1m3s\u001b[0m 4ms/step - accuracy: 0.6720 - loss: 0.7353 - val_accuracy: 0.6862 - val_loss: 0.7161\n",
      "Epoch 171/200\n",
      "\u001b[1m860/860\u001b[0m \u001b[32m━━━━━━━━━━━━━━━━━━━━\u001b[0m\u001b[37m\u001b[0m \u001b[1m5s\u001b[0m 4ms/step - accuracy: 0.6725 - loss: 0.7354 - val_accuracy: 0.6856 - val_loss: 0.7160\n",
      "Epoch 172/200\n",
      "\u001b[1m860/860\u001b[0m \u001b[32m━━━━━━━━━━━━━━━━━━━━\u001b[0m\u001b[37m\u001b[0m \u001b[1m5s\u001b[0m 4ms/step - accuracy: 0.6729 - loss: 0.7354 - val_accuracy: 0.6869 - val_loss: 0.7169\n",
      "Epoch 173/200\n",
      "\u001b[1m860/860\u001b[0m \u001b[32m━━━━━━━━━━━━━━━━━━━━\u001b[0m\u001b[37m\u001b[0m \u001b[1m3s\u001b[0m 3ms/step - accuracy: 0.6729 - loss: 0.7354 - val_accuracy: 0.6860 - val_loss: 0.7160\n",
      "Epoch 174/200\n",
      "\u001b[1m860/860\u001b[0m \u001b[32m━━━━━━━━━━━━━━━━━━━━\u001b[0m\u001b[37m\u001b[0m \u001b[1m3s\u001b[0m 4ms/step - accuracy: 0.6727 - loss: 0.7354 - val_accuracy: 0.6852 - val_loss: 0.7169\n",
      "Epoch 175/200\n",
      "\u001b[1m860/860\u001b[0m \u001b[32m━━━━━━━━━━━━━━━━━━━━\u001b[0m\u001b[37m\u001b[0m \u001b[1m5s\u001b[0m 3ms/step - accuracy: 0.6726 - loss: 0.7354 - val_accuracy: 0.6852 - val_loss: 0.7156\n",
      "Epoch 176/200\n",
      "\u001b[1m860/860\u001b[0m \u001b[32m━━━━━━━━━━━━━━━━━━━━\u001b[0m\u001b[37m\u001b[0m \u001b[1m5s\u001b[0m 4ms/step - accuracy: 0.6726 - loss: 0.7354 - val_accuracy: 0.6864 - val_loss: 0.7155\n",
      "Epoch 177/200\n",
      "\u001b[1m860/860\u001b[0m \u001b[32m━━━━━━━━━━━━━━━━━━━━\u001b[0m\u001b[37m\u001b[0m \u001b[1m3s\u001b[0m 4ms/step - accuracy: 0.6724 - loss: 0.7355 - val_accuracy: 0.6862 - val_loss: 0.7162\n",
      "Epoch 178/200\n",
      "\u001b[1m860/860\u001b[0m \u001b[32m━━━━━━━━━━━━━━━━━━━━\u001b[0m\u001b[37m\u001b[0m \u001b[1m5s\u001b[0m 4ms/step - accuracy: 0.6724 - loss: 0.7354 - val_accuracy: 0.6846 - val_loss: 0.7166\n",
      "Epoch 179/200\n",
      "\u001b[1m860/860\u001b[0m \u001b[32m━━━━━━━━━━━━━━━━━━━━\u001b[0m\u001b[37m\u001b[0m \u001b[1m5s\u001b[0m 3ms/step - accuracy: 0.6727 - loss: 0.7356 - val_accuracy: 0.6862 - val_loss: 0.7155\n",
      "Epoch 180/200\n",
      "\u001b[1m860/860\u001b[0m \u001b[32m━━━━━━━━━━━━━━━━━━━━\u001b[0m\u001b[37m\u001b[0m \u001b[1m6s\u001b[0m 4ms/step - accuracy: 0.6725 - loss: 0.7356 - val_accuracy: 0.6869 - val_loss: 0.7150\n",
      "Epoch 181/200\n",
      "\u001b[1m860/860\u001b[0m \u001b[32m━━━━━━━━━━━━━━━━━━━━\u001b[0m\u001b[37m\u001b[0m \u001b[1m4s\u001b[0m 3ms/step - accuracy: 0.6716 - loss: 0.7356 - val_accuracy: 0.6869 - val_loss: 0.7151\n",
      "Epoch 182/200\n",
      "\u001b[1m860/860\u001b[0m \u001b[32m━━━━━━━━━━━━━━━━━━━━\u001b[0m\u001b[37m\u001b[0m \u001b[1m3s\u001b[0m 3ms/step - accuracy: 0.6716 - loss: 0.7356 - val_accuracy: 0.6856 - val_loss: 0.7154\n",
      "Epoch 183/200\n",
      "\u001b[1m860/860\u001b[0m \u001b[32m━━━━━━━━━━━━━━━━━━━━\u001b[0m\u001b[37m\u001b[0m \u001b[1m5s\u001b[0m 4ms/step - accuracy: 0.6730 - loss: 0.7353 - val_accuracy: 0.6860 - val_loss: 0.7155\n",
      "Epoch 184/200\n",
      "\u001b[1m860/860\u001b[0m \u001b[32m━━━━━━━━━━━━━━━━━━━━\u001b[0m\u001b[37m\u001b[0m \u001b[1m3s\u001b[0m 4ms/step - accuracy: 0.6725 - loss: 0.7354 - val_accuracy: 0.6883 - val_loss: 0.7162\n",
      "Epoch 185/200\n",
      "\u001b[1m860/860\u001b[0m \u001b[32m━━━━━━━━━━━━━━━━━━━━\u001b[0m\u001b[37m\u001b[0m \u001b[1m3s\u001b[0m 3ms/step - accuracy: 0.6729 - loss: 0.7356 - val_accuracy: 0.6864 - val_loss: 0.7156\n",
      "Epoch 186/200\n",
      "\u001b[1m860/860\u001b[0m \u001b[32m━━━━━━━━━━━━━━━━━━━━\u001b[0m\u001b[37m\u001b[0m \u001b[1m5s\u001b[0m 3ms/step - accuracy: 0.6724 - loss: 0.7354 - val_accuracy: 0.6860 - val_loss: 0.7165\n",
      "Epoch 187/200\n",
      "\u001b[1m860/860\u001b[0m \u001b[32m━━━━━━━━━━━━━━━━━━━━\u001b[0m\u001b[37m\u001b[0m \u001b[1m3s\u001b[0m 3ms/step - accuracy: 0.6716 - loss: 0.7354 - val_accuracy: 0.6854 - val_loss: 0.7157\n",
      "Epoch 188/200\n",
      "\u001b[1m860/860\u001b[0m \u001b[32m━━━━━━━━━━━━━━━━━━━━\u001b[0m\u001b[37m\u001b[0m \u001b[1m3s\u001b[0m 4ms/step - accuracy: 0.6725 - loss: 0.7357 - val_accuracy: 0.6860 - val_loss: 0.7157\n",
      "Epoch 189/200\n",
      "\u001b[1m860/860\u001b[0m \u001b[32m━━━━━━━━━━━━━━━━━━━━\u001b[0m\u001b[37m\u001b[0m \u001b[1m4s\u001b[0m 4ms/step - accuracy: 0.6723 - loss: 0.7355 - val_accuracy: 0.6864 - val_loss: 0.7165\n",
      "Epoch 190/200\n",
      "\u001b[1m860/860\u001b[0m \u001b[32m━━━━━━━━━━━━━━━━━━━━\u001b[0m\u001b[37m\u001b[0m \u001b[1m5s\u001b[0m 3ms/step - accuracy: 0.6722 - loss: 0.7356 - val_accuracy: 0.6860 - val_loss: 0.7161\n",
      "Epoch 191/200\n",
      "\u001b[1m860/860\u001b[0m \u001b[32m━━━━━━━━━━━━━━━━━━━━\u001b[0m\u001b[37m\u001b[0m \u001b[1m3s\u001b[0m 3ms/step - accuracy: 0.6725 - loss: 0.7355 - val_accuracy: 0.6858 - val_loss: 0.7166\n",
      "Epoch 192/200\n",
      "\u001b[1m860/860\u001b[0m \u001b[32m━━━━━━━━━━━━━━━━━━━━\u001b[0m\u001b[37m\u001b[0m \u001b[1m6s\u001b[0m 5ms/step - accuracy: 0.6725 - loss: 0.7355 - val_accuracy: 0.6860 - val_loss: 0.7149\n",
      "Epoch 193/200\n",
      "\u001b[1m860/860\u001b[0m \u001b[32m━━━━━━━━━━━━━━━━━━━━\u001b[0m\u001b[37m\u001b[0m \u001b[1m4s\u001b[0m 4ms/step - accuracy: 0.6719 - loss: 0.7356 - val_accuracy: 0.6875 - val_loss: 0.7157\n",
      "Epoch 194/200\n",
      "\u001b[1m860/860\u001b[0m \u001b[32m━━━━━━━━━━━━━━━━━━━━\u001b[0m\u001b[37m\u001b[0m \u001b[1m3s\u001b[0m 4ms/step - accuracy: 0.6716 - loss: 0.7354 - val_accuracy: 0.6881 - val_loss: 0.7151\n",
      "Epoch 195/200\n",
      "\u001b[1m860/860\u001b[0m \u001b[32m━━━━━━━━━━━━━━━━━━━━\u001b[0m\u001b[37m\u001b[0m \u001b[1m6s\u001b[0m 5ms/step - accuracy: 0.6721 - loss: 0.7354 - val_accuracy: 0.6846 - val_loss: 0.7161\n",
      "Epoch 196/200\n",
      "\u001b[1m860/860\u001b[0m \u001b[32m━━━━━━━━━━━━━━━━━━━━\u001b[0m\u001b[37m\u001b[0m \u001b[1m4s\u001b[0m 3ms/step - accuracy: 0.6725 - loss: 0.7356 - val_accuracy: 0.6852 - val_loss: 0.7173\n",
      "Epoch 197/200\n",
      "\u001b[1m860/860\u001b[0m \u001b[32m━━━━━━━━━━━━━━━━━━━━\u001b[0m\u001b[37m\u001b[0m \u001b[1m3s\u001b[0m 3ms/step - accuracy: 0.6721 - loss: 0.7357 - val_accuracy: 0.6864 - val_loss: 0.7171\n",
      "Epoch 198/200\n",
      "\u001b[1m860/860\u001b[0m \u001b[32m━━━━━━━━━━━━━━━━━━━━\u001b[0m\u001b[37m\u001b[0m \u001b[1m6s\u001b[0m 4ms/step - accuracy: 0.6721 - loss: 0.7358 - val_accuracy: 0.6850 - val_loss: 0.7170\n",
      "Epoch 199/200\n",
      "\u001b[1m860/860\u001b[0m \u001b[32m━━━━━━━━━━━━━━━━━━━━\u001b[0m\u001b[37m\u001b[0m \u001b[1m3s\u001b[0m 4ms/step - accuracy: 0.6717 - loss: 0.7354 - val_accuracy: 0.6852 - val_loss: 0.7163\n",
      "Epoch 200/200\n",
      "\u001b[1m860/860\u001b[0m \u001b[32m━━━━━━━━━━━━━━━━━━━━\u001b[0m\u001b[37m\u001b[0m \u001b[1m3s\u001b[0m 4ms/step - accuracy: 0.6723 - loss: 0.7357 - val_accuracy: 0.6852 - val_loss: 0.7171\n"
     ]
    }
   ],
   "source": [
    "Early_history = Early_model.fit(X_train, y_train, batch_size=32, epochs=200, validation_split=0.15)"
   ]
  },
  {
   "cell_type": "markdown",
   "id": "aBjKhnqobzyv",
   "metadata": {
    "id": "aBjKhnqobzyv"
   },
   "source": [
    "----------------------\n",
    "# `03` Model Evaluate\n"
   ]
  },
  {
   "cell_type": "markdown",
   "id": "6UeqCrT1kNy5",
   "metadata": {
    "id": "6UeqCrT1kNy5"
   },
   "source": [
    "## `i` Baseline Model"
   ]
  },
  {
   "cell_type": "code",
   "execution_count": 110,
   "id": "GpilU8Cq6dGq",
   "metadata": {
    "colab": {
     "base_uri": "https://localhost:8080/"
    },
    "id": "GpilU8Cq6dGq",
    "outputId": "e624d9b3-7b38-43bc-e806-3facf63eb40b"
   },
   "outputs": [
    {
     "name": "stdout",
     "output_type": "stream",
     "text": [
      "\u001b[1m338/338\u001b[0m \u001b[32m━━━━━━━━━━━━━━━━━━━━\u001b[0m\u001b[37m\u001b[0m \u001b[1m2s\u001b[0m 5ms/step - accuracy: 0.6741 - loss: 0.7345\n",
      "val Loss: 0.7236, val Accuracy: 68.1068%\n"
     ]
    }
   ],
   "source": [
    "loss, accuracy = model.evaluate(X_val, y_val)\n",
    "print(f\"val Loss: {loss:.4f}, val Accuracy: {accuracy:.4%}\")"
   ]
  },
  {
   "cell_type": "code",
   "execution_count": 111,
   "id": "TtJcrehTcmeA",
   "metadata": {
    "colab": {
     "base_uri": "https://localhost:8080/"
    },
    "id": "TtJcrehTcmeA",
    "outputId": "0555e179-b66e-431e-d655-6cb1e0af2aa7"
   },
   "outputs": [
    {
     "name": "stdout",
     "output_type": "stream",
     "text": [
      "\u001b[1m338/338\u001b[0m \u001b[32m━━━━━━━━━━━━━━━━━━━━\u001b[0m\u001b[37m\u001b[0m \u001b[1m1s\u001b[0m 3ms/step\n",
      "              precision    recall  f1-score   support\n",
      "\n",
      "           0       0.51      0.68      0.58      1932\n",
      "           1       0.68      0.65      0.66      3017\n",
      "           2       0.76      0.70      0.73      5837\n",
      "\n",
      "    accuracy                           0.68     10786\n",
      "   macro avg       0.65      0.68      0.66     10786\n",
      "weighted avg       0.70      0.68      0.68     10786\n",
      "\n"
     ]
    }
   ],
   "source": [
    "y_pred = np.argmax(model.predict(X_val), axis=1)\n",
    "print(classification_report(y_val, y_pred))"
   ]
  },
  {
   "cell_type": "markdown",
   "id": "kobz6-5Hr4dP",
   "metadata": {
    "id": "kobz6-5Hr4dP"
   },
   "source": [
    "---\n",
    "## `ii` Early Stopped Model"
   ]
  },
  {
   "cell_type": "code",
   "execution_count": 112,
   "id": "NMq9vTaGfjyk",
   "metadata": {
    "colab": {
     "base_uri": "https://localhost:8080/"
    },
    "id": "NMq9vTaGfjyk",
    "outputId": "e3d02ed9-c260-43ca-a81e-7402994615af"
   },
   "outputs": [
    {
     "name": "stdout",
     "output_type": "stream",
     "text": [
      "\u001b[1m338/338\u001b[0m \u001b[32m━━━━━━━━━━━━━━━━━━━━\u001b[0m\u001b[37m\u001b[0m \u001b[1m2s\u001b[0m 6ms/step - accuracy: 0.6690 - loss: 0.7472\n",
      "val Loss: 0.7236, val Accuracy: 68.1068%\n"
     ]
    }
   ],
   "source": [
    "Early_loss,  Early_accuracy = Early_model.evaluate(X_val, y_val)\n",
    "print(f\"val Loss: {loss:.4f}, val Accuracy: {accuracy:.4%}\")"
   ]
  },
  {
   "cell_type": "code",
   "execution_count": 115,
   "id": "8Byn0z8E9fl8",
   "metadata": {
    "colab": {
     "base_uri": "https://localhost:8080/"
    },
    "id": "8Byn0z8E9fl8",
    "outputId": "9e47c2a0-4995-4b86-c1b3-023fe973c0d0"
   },
   "outputs": [
    {
     "name": "stdout",
     "output_type": "stream",
     "text": [
      "\u001b[1m338/338\u001b[0m \u001b[32m━━━━━━━━━━━━━━━━━━━━\u001b[0m\u001b[37m\u001b[0m \u001b[1m2s\u001b[0m 5ms/step\n",
      "              precision    recall  f1-score   support\n",
      "\n",
      "           0       0.51      0.62      0.56      1932\n",
      "           1       0.68      0.65      0.66      3017\n",
      "           2       0.75      0.71      0.73      5837\n",
      "\n",
      "    accuracy                           0.68     10786\n",
      "   macro avg       0.64      0.66      0.65     10786\n",
      "weighted avg       0.69      0.68      0.68     10786\n",
      "\n"
     ]
    }
   ],
   "source": [
    "y_pred = np.argmax(Early_model.predict(X_val), axis=1)\n",
    "print(classification_report(y_val, y_pred))"
   ]
  },
  {
   "cell_type": "markdown",
   "id": "TK5OotcDsniR",
   "metadata": {
    "id": "TK5OotcDsniR"
   },
   "source": [
    "----------------------\n",
    "# `04` Visualization"
   ]
  },
  {
   "cell_type": "markdown",
   "id": "g2_1mn0V9qC7",
   "metadata": {
    "id": "g2_1mn0V9qC7"
   },
   "source": [
    "## `i` Baseline Model"
   ]
  },
  {
   "cell_type": "code",
   "execution_count": 114,
   "id": "QPp2nRaDs2D2",
   "metadata": {
    "colab": {
     "base_uri": "https://localhost:8080/",
     "height": 468
    },
    "id": "QPp2nRaDs2D2",
    "outputId": "f0900d6f-0503-4acd-b9b0-b3b57b8a29a2"
   },
   "outputs": [
    {
     "data": {
      "image/png": "[encoded data removed]",
      "text/plain": [
       "<Figure size 1200x500 with 2 Axes>"
      ]
     },
     "metadata": {},
     "output_type": "display_data"
    }
   ],
   "source": [
    "plt.figure(figsize=(12, 5))\n",
    "plt.subplot(1, 2, 1)\n",
    "plt.plot(history.history['loss'], label='Train Loss')\n",
    "plt.plot(history.history['val_loss'], label='Validation Loss')\n",
    "plt.legend()\n",
    "plt.title('Loss vs. Epochs')\n",
    "\n",
    "plt.subplot(1, 2, 2)\n",
    "plt.plot(history.history['accuracy'], label='Train Accuracy')\n",
    "plt.plot(history.history['val_accuracy'], label='Validation Accuracy')\n",
    "plt.legend()\n",
    "plt.title('Accuracy vs. Epochs')\n",
    "\n",
    "plt.show()"
   ]
  },
  {
   "cell_type": "markdown",
   "id": "Ms6wDhYJ9uCT",
   "metadata": {
    "id": "Ms6wDhYJ9uCT"
   },
   "source": [
    "---\n",
    "## `ii` Early Stopped Model"
   ]
  },
  {
   "cell_type": "code",
   "execution_count": 116,
   "id": "iMTuSYJc9vbr",
   "metadata": {
    "colab": {
     "base_uri": "https://localhost:8080/",
     "height": 468
    },
    "id": "iMTuSYJc9vbr",
    "outputId": "c85868d9-cbc4-425a-d8c8-7f2a9613ef7d"
   },
   "outputs": [
    {
     "data": {
      "image/png": "[encoded data removed]",
      "text/plain": [
       "<Figure size 1200x500 with 2 Axes>"
      ]
     },
     "metadata": {},
     "output_type": "display_data"
    }
   ],
   "source": [
    "plt.figure(figsize=(12, 5))\n",
    "plt.subplot(1, 2, 1)\n",
    "plt.plot(Early_history.history['loss'], label='Train Loss')\n",
    "plt.plot(Early_history.history['val_loss'], label='Validation Loss')\n",
    "plt.legend()\n",
    "plt.title('Loss vs. Epochs')\n",
    "\n",
    "plt.subplot(1, 2, 2)\n",
    "plt.plot(Early_history.history['accuracy'], label='Train Accuracy')\n",
    "plt.plot(Early_history.history['val_accuracy'], label='Validation Accuracy')\n",
    "plt.legend()\n",
    "plt.title('Accuracy vs. Epochs')\n",
    "\n",
    "plt.show()"
   ]
  },
  {
   "cell_type": "markdown",
   "id": "rMsKHprK-Bzb",
   "metadata": {
    "id": "rMsKHprK-Bzb"
   },
   "source": [
    "----------------------\n",
    "# `05` Generalization Error"
   ]
  },
  {
   "cell_type": "code",
   "execution_count": 118,
   "id": "q52Kecvq-IU9",
   "metadata": {
    "colab": {
     "base_uri": "https://localhost:8080/"
    },
    "id": "q52Kecvq-IU9",
    "outputId": "46c9dd22-c575-4eb2-deb3-51193db35ebf"
   },
   "outputs": [
    {
     "name": "stdout",
     "output_type": "stream",
     "text": [
      "Train Loss: 0.7313, Train Accuracy: 67.8277%\n",
      "Validation Loss: 0.7350, Validation Accuracy: 67.7545%\n",
      "Test Loss: 0.7297, Test Accuracy: 68.0048%\n"
     ]
    }
   ],
   "source": [
    "Early_loss_train,  Early_accuracy_train = Early_model.evaluate(X_train, y_train, verbose=0)\n",
    "Early_loss_val,  Early_accuracy_val = Early_model.evaluate(X_val, y_val, verbose=0)\n",
    "Early_loss_test,  Early_accuracy_test = Early_model.evaluate(X_test, y_test, verbose=0)\n",
    "\n",
    "print(f\"Train Loss: {Early_loss_train:.4f}, Train Accuracy: {Early_accuracy_train:.4%}\")\n",
    "print(f\"Validation Loss: {Early_loss_val:.4f}, Validation Accuracy: {Early_accuracy_val:.4%}\")\n",
    "print(f\"Test Loss: {Early_loss_test:.4f}, Test Accuracy: {Early_accuracy_test:.4%}\")"
   ]
  },
  {
   "cell_type": "markdown",
   "id": "7ff5f5dc",
   "metadata": {
    "id": "7ff5f5dc"
   },
   "source": [
    "----------------------------------------------\n",
    "\n",
    "$$ Wish \\space you \\space all \\space the \\space best \\space ♡ $$\n"
   ]
  },
  {
   "cell_type": "markdown",
   "id": "67e46ff0",
   "metadata": {},
   "source": []
  }
 ],
 "metadata": {
  "colab": {
   "provenance": []
  },
  "kernelspec": {
   "display_name": "Python 3",
   "language": "python",
   "name": "python3"
  },
  "language_info": {
   "codemirror_mode": {
    "name": "ipython",
    "version": 3
   },
   "file_extension": ".py",
   "mimetype": "text/x-python",
   "name": "python",
   "nbconvert_exporter": "python",
   "pygments_lexer": "ipython3",
   "version": "3.8.8"
  }
 },
 "nbformat": 4,
 "nbformat_minor": 5
}
